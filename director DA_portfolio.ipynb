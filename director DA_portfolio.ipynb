{
 "cells": [
  {
   "cell_type": "markdown",
   "metadata": {},
   "source": [
    "# Demonstration of python libraries in real case scenario\n",
    "\n",
    "## Race director"
   ]
  },
  {
   "cell_type": "markdown",
   "metadata": {},
   "source": [
    "### As input we have \n",
    "\n",
    "#### 1) a csv file with the relationship between a RFID chip serial number and their participant number \n",
    "#### 2) a csv file with the participant number and their information\n",
    "#### 3) an unformated txt file with the reading of the RFID ID and their reading time.\n",
    "#### 4) starting time ----> 10:00:00 am\n"
   ]
  },
  {
   "cell_type": "markdown",
   "metadata": {},
   "source": [
    "### As output we need:\n",
    "\n",
    "#### -> A data base with the results of the event. It is the sequence of the arrival (position), participant data (number)  and time of the race (race time), for all, male, female and unregistered.\n",
    "\n",
    "#### -> Graphs are needed to show the relationship between male and female regarding race time\n",
    "\n",
    "#### -> statistical analysis of the event. (min, max, mean)\n",
    "\n",
    "#### -> An excel file with the results of the event. It is the sequence of the arrival (position), participant data (number)  and time of the race (race time), for all, male, female and unregistered.\n",
    "\n",
    "![purple-divider](https://user-images.githubusercontent.com/7065401/52071927-c1cd7100-2562-11e9-908a-dde91ba14e59.png)"
   ]
  },
  {
   "cell_type": "markdown",
   "metadata": {},
   "source": [
    "###### First, stablish steps "
   ]
  },
  {
   "cell_type": "code",
   "execution_count": 1,
   "metadata": {},
   "outputs": [],
   "source": [
    "# given the type of file we need to:\n",
    "# 1) import all our given files\n",
    "# 2) format our txt file\n",
    "# 3) create a clean and organized main df \n",
    "# 4) add a new column, position\n",
    "# 5) merge all the dfs into one with all the information for the results\n",
    "# 6) Clean df and clean race time\n",
    "# 8) create M and F dfs \n",
    "# 9) Graph\n",
    "# 10) analyse\n",
    "# 11) export"
   ]
  },
  {
   "cell_type": "markdown",
   "metadata": {},
   "source": [
    "###### Include all the needed libraries and tools "
   ]
  },
  {
   "cell_type": "code",
   "execution_count": 2,
   "metadata": {},
   "outputs": [],
   "source": [
    "import pandas as pd\n",
    "import numpy as np\n",
    "import matplotlib.pyplot as plt\n",
    "import time, datetime, csv, xlsxwriter\n",
    "\n",
    "from openpyxl import Workbook\n",
    "from openpyxl.drawing.image import Image\n",
    "\n",
    "from time import gmtime, strftime\n",
    "from datetime import datetime, timedelta"
   ]
  },
  {
   "cell_type": "markdown",
   "metadata": {},
   "source": [
    "![separator1](https://i.imgur.com/ZUWYTii.png)\n",
    "\n",
    "#### 1) Capture input files "
   ]
  },
  {
   "cell_type": "markdown",
   "metadata": {},
   "source": [
    "###### It is possibe to introduce Batch ID as a dictionary"
   ]
  },
  {
   "cell_type": "code",
   "execution_count": 3,
   "metadata": {},
   "outputs": [
    {
     "data": {
      "text/plain": [
       "'1'"
      ]
     },
     "execution_count": 3,
     "metadata": {},
     "output_type": "execute_result"
    }
   ],
   "source": [
    "# Imclude files\n",
    "# batch id as a dictionary \n",
    "with open('batch.csv', mode='r') as infile:\n",
    "    reader = csv.reader(infile)\n",
    "    chip_ID = {rows[1]:rows[0] for rows in reader}\n",
    "\n",
    "chip_ID.get('5200001')"
   ]
  },
  {
   "cell_type": "markdown",
   "metadata": {},
   "source": [
    "###### Or as a dataframe "
   ]
  },
  {
   "cell_type": "code",
   "execution_count": 4,
   "metadata": {},
   "outputs": [
    {
     "data": {
      "text/html": [
       "<div>\n",
       "<style scoped>\n",
       "    .dataframe tbody tr th:only-of-type {\n",
       "        vertical-align: middle;\n",
       "    }\n",
       "\n",
       "    .dataframe tbody tr th {\n",
       "        vertical-align: top;\n",
       "    }\n",
       "\n",
       "    .dataframe thead th {\n",
       "        text-align: right;\n",
       "    }\n",
       "</style>\n",
       "<table border=\"1\" class=\"dataframe\">\n",
       "  <thead>\n",
       "    <tr style=\"text-align: right;\">\n",
       "      <th></th>\n",
       "      <th>NUMBER</th>\n",
       "      <th>CHIP</th>\n",
       "    </tr>\n",
       "  </thead>\n",
       "  <tbody>\n",
       "    <tr>\n",
       "      <th>0</th>\n",
       "      <td>1</td>\n",
       "      <td>5200001</td>\n",
       "    </tr>\n",
       "  </tbody>\n",
       "</table>\n",
       "</div>"
      ],
      "text/plain": [
       "   NUMBER     CHIP\n",
       "0       1  5200001"
      ]
     },
     "execution_count": 4,
     "metadata": {},
     "output_type": "execute_result"
    }
   ],
   "source": [
    "df_batch =  pd.read_csv('batch.csv', usecols=['NUMBER', 'CHIP'])\n",
    "df_batch.loc[df_batch['CHIP']==5200001]"
   ]
  },
  {
   "cell_type": "markdown",
   "metadata": {},
   "source": [
    "###### In the same way, participants as a Dictionary"
   ]
  },
  {
   "cell_type": "code",
   "execution_count": 5,
   "metadata": {},
   "outputs": [],
   "source": [
    "# include participants info as nested dictionary\n",
    "f = open('info.csv', 'r',encoding=\"utf8\")\n",
    "first_line = f.readline()\n",
    "reader = csv.reader(f)  # omite encabezado\n",
    "participants = {} # genero lista llamada aretes, es una lista comuesta de listas\n",
    "for row in reader:\n",
    "    participants[row[0]] = {'NAME': row[1],'LAST NAME': row[2],'GENDER': row[3]}"
   ]
  },
  {
   "cell_type": "code",
   "execution_count": 6,
   "metadata": {},
   "outputs": [
    {
     "data": {
      "text/plain": [
       "{'NAME': 'JUAN', 'LAST NAME': 'JASSO ECHEVERR¡A', 'GENDER': 'M'}"
      ]
     },
     "execution_count": 6,
     "metadata": {},
     "output_type": "execute_result"
    }
   ],
   "source": [
    "participants[str(2)]"
   ]
  },
  {
   "cell_type": "markdown",
   "metadata": {},
   "source": [
    "###### or as a dataframe"
   ]
  },
  {
   "cell_type": "code",
   "execution_count": 7,
   "metadata": {},
   "outputs": [
    {
     "data": {
      "text/html": [
       "<div>\n",
       "<style scoped>\n",
       "    .dataframe tbody tr th:only-of-type {\n",
       "        vertical-align: middle;\n",
       "    }\n",
       "\n",
       "    .dataframe tbody tr th {\n",
       "        vertical-align: top;\n",
       "    }\n",
       "\n",
       "    .dataframe thead th {\n",
       "        text-align: right;\n",
       "    }\n",
       "</style>\n",
       "<table border=\"1\" class=\"dataframe\">\n",
       "  <thead>\n",
       "    <tr style=\"text-align: right;\">\n",
       "      <th></th>\n",
       "      <th>NUMBER</th>\n",
       "      <th>NAME</th>\n",
       "      <th>LAST NAME</th>\n",
       "      <th>GENDER</th>\n",
       "    </tr>\n",
       "  </thead>\n",
       "  <tbody>\n",
       "    <tr>\n",
       "      <th>1385</th>\n",
       "      <td>2</td>\n",
       "      <td>JUAN</td>\n",
       "      <td>JASSO ECHEVERR¡A</td>\n",
       "      <td>M</td>\n",
       "    </tr>\n",
       "  </tbody>\n",
       "</table>\n",
       "</div>"
      ],
      "text/plain": [
       "      NUMBER  NAME         LAST NAME GENDER\n",
       "1385       2  JUAN  JASSO ECHEVERR¡A      M"
      ]
     },
     "execution_count": 7,
     "metadata": {},
     "output_type": "execute_result"
    }
   ],
   "source": [
    "df_info = pd.read_csv('info.csv', usecols=['NUMBER', 'NAME', 'LAST NAME', 'GENDER'])\n",
    "df_info.loc[df_info['NUMBER']==2]"
   ]
  },
  {
   "cell_type": "markdown",
   "metadata": {},
   "source": [
    "![separator1](https://i.imgur.com/ZUWYTii.png)\n",
    "\n",
    "#### 2) Once I have my two main input files ready to be used, we can proceed to format the raw text file "
   ]
  },
  {
   "cell_type": "code",
   "execution_count": 8,
   "metadata": {},
   "outputs": [],
   "source": [
    "#as as series of steps\n",
    "old_file = open('Finish.txt', \"r\")\n",
    "lines = old_file.read().split(\"\\n\")\n",
    "new_lines= []\n",
    "for line in lines:\n",
    "    newline = line[:7] +',' + line[7:18]   # slicing\n",
    "    new_lines.append(newline)\n",
    "old_file.close()\n",
    "\n",
    "#create an new file txt in order to keep the original intact  \n",
    "new_file = open('clean_reading.txt', \"w\")\n",
    "new_file.write('CHIP,TIME'+\"\\n\")\n",
    "with new_file:    \n",
    "    new_file.write(\"\\n\".join(new_lines))\n",
    "new_file.close()\n",
    "\n",
    "# crate csv from txt file, in order to share the stages of the data with clients \n",
    "text_file = pd.read_csv('clean_reading.txt', delimiter = ',')\n",
    "text_file.to_csv('clean_df.csv', index=False) ######### here I create my df \n",
    "\n",
    "#create df from csv \n",
    "df = pd.read_csv('clean_df.csv', usecols=['CHIP', 'TIME'])\n"
   ]
  },
  {
   "cell_type": "markdown",
   "metadata": {},
   "source": [
    "#### 3) we created a df given our original txt file. The original document is safe and we can proceed with all the work"
   ]
  },
  {
   "cell_type": "code",
   "execution_count": 9,
   "metadata": {},
   "outputs": [
    {
     "name": "stdout",
     "output_type": "stream",
     "text": [
      "<class 'pandas.core.frame.DataFrame'>\n",
      "RangeIndex: 1079 entries, 0 to 1078\n",
      "Data columns (total 2 columns):\n",
      " #   Column  Non-Null Count  Dtype \n",
      "---  ------  --------------  ----- \n",
      " 0   CHIP    1079 non-null   int64 \n",
      " 1   TIME    1079 non-null   object\n",
      "dtypes: int64(1), object(1)\n",
      "memory usage: 17.0+ KB\n"
     ]
    },
    {
     "data": {
      "text/html": [
       "<div>\n",
       "<style scoped>\n",
       "    .dataframe tbody tr th:only-of-type {\n",
       "        vertical-align: middle;\n",
       "    }\n",
       "\n",
       "    .dataframe tbody tr th {\n",
       "        vertical-align: top;\n",
       "    }\n",
       "\n",
       "    .dataframe thead th {\n",
       "        text-align: right;\n",
       "    }\n",
       "</style>\n",
       "<table border=\"1\" class=\"dataframe\">\n",
       "  <thead>\n",
       "    <tr style=\"text-align: right;\">\n",
       "      <th></th>\n",
       "      <th>CHIP</th>\n",
       "      <th>TIME</th>\n",
       "    </tr>\n",
       "  </thead>\n",
       "  <tbody>\n",
       "    <tr>\n",
       "      <th>0</th>\n",
       "      <td>5200829</td>\n",
       "      <td>11:57:26.18</td>\n",
       "    </tr>\n",
       "    <tr>\n",
       "      <th>1</th>\n",
       "      <td>5200829</td>\n",
       "      <td>11:57:26.18</td>\n",
       "    </tr>\n",
       "    <tr>\n",
       "      <th>2</th>\n",
       "      <td>5200829</td>\n",
       "      <td>11:57:26.18</td>\n",
       "    </tr>\n",
       "    <tr>\n",
       "      <th>3</th>\n",
       "      <td>5200230</td>\n",
       "      <td>11:59:57.69</td>\n",
       "    </tr>\n",
       "    <tr>\n",
       "      <th>4</th>\n",
       "      <td>5202070</td>\n",
       "      <td>12:01:35.80</td>\n",
       "    </tr>\n",
       "  </tbody>\n",
       "</table>\n",
       "</div>"
      ],
      "text/plain": [
       "      CHIP         TIME\n",
       "0  5200829  11:57:26.18\n",
       "1  5200829  11:57:26.18\n",
       "2  5200829  11:57:26.18\n",
       "3  5200230  11:59:57.69\n",
       "4  5202070  12:01:35.80"
      ]
     },
     "execution_count": 9,
     "metadata": {},
     "output_type": "execute_result"
    }
   ],
   "source": [
    "#we have the columns that we need, but wee can see how seems like we have duplicates\n",
    "df.info()\n",
    "df.head()"
   ]
  },
  {
   "cell_type": "markdown",
   "metadata": {},
   "source": [
    "#### 4)  in order to be sure about the quality of the df, we origanize by time, and drop duplicates "
   ]
  },
  {
   "cell_type": "code",
   "execution_count": 10,
   "metadata": {},
   "outputs": [
    {
     "data": {
      "text/html": [
       "<div>\n",
       "<style scoped>\n",
       "    .dataframe tbody tr th:only-of-type {\n",
       "        vertical-align: middle;\n",
       "    }\n",
       "\n",
       "    .dataframe tbody tr th {\n",
       "        vertical-align: top;\n",
       "    }\n",
       "\n",
       "    .dataframe thead th {\n",
       "        text-align: right;\n",
       "    }\n",
       "</style>\n",
       "<table border=\"1\" class=\"dataframe\">\n",
       "  <thead>\n",
       "    <tr style=\"text-align: right;\">\n",
       "      <th></th>\n",
       "      <th>CHIP</th>\n",
       "      <th>TIME</th>\n",
       "    </tr>\n",
       "  </thead>\n",
       "  <tbody>\n",
       "    <tr>\n",
       "      <th>0</th>\n",
       "      <td>5200829</td>\n",
       "      <td>11:57:26.18</td>\n",
       "    </tr>\n",
       "    <tr>\n",
       "      <th>1</th>\n",
       "      <td>5200829</td>\n",
       "      <td>11:57:26.18</td>\n",
       "    </tr>\n",
       "    <tr>\n",
       "      <th>2</th>\n",
       "      <td>5200829</td>\n",
       "      <td>11:57:26.18</td>\n",
       "    </tr>\n",
       "    <tr>\n",
       "      <th>3</th>\n",
       "      <td>5200230</td>\n",
       "      <td>11:59:57.69</td>\n",
       "    </tr>\n",
       "    <tr>\n",
       "      <th>4</th>\n",
       "      <td>5202070</td>\n",
       "      <td>12:01:35.80</td>\n",
       "    </tr>\n",
       "  </tbody>\n",
       "</table>\n",
       "</div>"
      ],
      "text/plain": [
       "      CHIP         TIME\n",
       "0  5200829  11:57:26.18\n",
       "1  5200829  11:57:26.18\n",
       "2  5200829  11:57:26.18\n",
       "3  5200230  11:59:57.69\n",
       "4  5202070  12:01:35.80"
      ]
     },
     "execution_count": 10,
     "metadata": {},
     "output_type": "execute_result"
    }
   ],
   "source": [
    "df= df.sort_values(by='TIME', ascending=True) # we organize by time, given that this reading may have bugs or miss inputs\n",
    "df.head()"
   ]
  },
  {
   "cell_type": "code",
   "execution_count": 11,
   "metadata": {},
   "outputs": [
    {
     "name": "stdout",
     "output_type": "stream",
     "text": [
      "<class 'pandas.core.frame.DataFrame'>\n",
      "Int64Index: 1038 entries, 0 to 1073\n",
      "Data columns (total 2 columns):\n",
      " #   Column  Non-Null Count  Dtype \n",
      "---  ------  --------------  ----- \n",
      " 0   CHIP    1038 non-null   int64 \n",
      " 1   TIME    1038 non-null   object\n",
      "dtypes: int64(1), object(1)\n",
      "memory usage: 24.3+ KB\n"
     ]
    }
   ],
   "source": [
    "df = df.drop_duplicates(subset = 'CHIP', keep= 'first')\n",
    "df.head()\n",
    "df.info()"
   ]
  },
  {
   "cell_type": "code",
   "execution_count": 12,
   "metadata": {},
   "outputs": [
    {
     "data": {
      "text/plain": [
       "1038"
      ]
     },
     "execution_count": 12,
     "metadata": {},
     "output_type": "execute_result"
    }
   ],
   "source": [
    "# lets keep a record of all the unique readings that we have\n",
    "all_readings= df['CHIP'].nunique()\n",
    "all_readings"
   ]
  },
  {
   "cell_type": "markdown",
   "metadata": {},
   "source": [
    "![separator1](https://i.imgur.com/ZUWYTii.png)\n",
    "###### Get a draft of the results given the clean reading (chips: time) and the Batch ID (chip:number)"
   ]
  },
  {
   "cell_type": "code",
   "execution_count": 13,
   "metadata": {},
   "outputs": [
    {
     "name": "stdout",
     "output_type": "stream",
     "text": [
      "<class 'pandas.core.frame.DataFrame'>\n",
      "Int64Index: 1038 entries, 0 to 1073\n",
      "Data columns (total 2 columns):\n",
      " #   Column  Non-Null Count  Dtype \n",
      "---  ------  --------------  ----- \n",
      " 0   CHIP    1038 non-null   int64 \n",
      " 1   TIME    1038 non-null   object\n",
      "dtypes: int64(1), object(1)\n",
      "memory usage: 24.3+ KB\n"
     ]
    },
    {
     "data": {
      "text/html": [
       "<div>\n",
       "<style scoped>\n",
       "    .dataframe tbody tr th:only-of-type {\n",
       "        vertical-align: middle;\n",
       "    }\n",
       "\n",
       "    .dataframe tbody tr th {\n",
       "        vertical-align: top;\n",
       "    }\n",
       "\n",
       "    .dataframe thead th {\n",
       "        text-align: right;\n",
       "    }\n",
       "</style>\n",
       "<table border=\"1\" class=\"dataframe\">\n",
       "  <thead>\n",
       "    <tr style=\"text-align: right;\">\n",
       "      <th></th>\n",
       "      <th>CHIP</th>\n",
       "      <th>TIME</th>\n",
       "    </tr>\n",
       "  </thead>\n",
       "  <tbody>\n",
       "    <tr>\n",
       "      <th>0</th>\n",
       "      <td>5200829</td>\n",
       "      <td>11:57:26.18</td>\n",
       "    </tr>\n",
       "    <tr>\n",
       "      <th>3</th>\n",
       "      <td>5200230</td>\n",
       "      <td>11:59:57.69</td>\n",
       "    </tr>\n",
       "    <tr>\n",
       "      <th>4</th>\n",
       "      <td>5202070</td>\n",
       "      <td>12:01:35.80</td>\n",
       "    </tr>\n",
       "    <tr>\n",
       "      <th>5</th>\n",
       "      <td>5200141</td>\n",
       "      <td>12:01:57.87</td>\n",
       "    </tr>\n",
       "    <tr>\n",
       "      <th>6</th>\n",
       "      <td>5200759</td>\n",
       "      <td>12:02:29.38</td>\n",
       "    </tr>\n",
       "  </tbody>\n",
       "</table>\n",
       "</div>"
      ],
      "text/plain": [
       "      CHIP         TIME\n",
       "0  5200829  11:57:26.18\n",
       "3  5200230  11:59:57.69\n",
       "4  5202070  12:01:35.80\n",
       "5  5200141  12:01:57.87\n",
       "6  5200759  12:02:29.38"
      ]
     },
     "execution_count": 13,
     "metadata": {},
     "output_type": "execute_result"
    }
   ],
   "source": [
    "\n",
    "df.info()\n",
    "df.head()"
   ]
  },
  {
   "cell_type": "markdown",
   "metadata": {},
   "source": [
    "We merge our readings with our chip ID batch"
   ]
  },
  {
   "cell_type": "code",
   "execution_count": 14,
   "metadata": {},
   "outputs": [
    {
     "name": "stdout",
     "output_type": "stream",
     "text": [
      "<class 'pandas.core.frame.DataFrame'>\n",
      "Int64Index: 1036 entries, 0 to 1035\n",
      "Data columns (total 3 columns):\n",
      " #   Column  Non-Null Count  Dtype \n",
      "---  ------  --------------  ----- \n",
      " 0   CHIP    1036 non-null   int64 \n",
      " 1   TIME    1036 non-null   object\n",
      " 2   NUMBER  1036 non-null   int64 \n",
      "dtypes: int64(2), object(1)\n",
      "memory usage: 32.4+ KB\n"
     ]
    }
   ],
   "source": [
    "df = pd.merge(df, df_batch, on ='CHIP')\n",
    "df.head()\n",
    "df.info()"
   ]
  },
  {
   "cell_type": "code",
   "execution_count": 15,
   "metadata": {},
   "outputs": [],
   "source": [
    "#we can see how from 1038 we went to 1036. We will analize that later "
   ]
  },
  {
   "cell_type": "code",
   "execution_count": 16,
   "metadata": {},
   "outputs": [],
   "source": [
    "#Add a column called position, given the time of arrival\n",
    "df.insert(0, 'POSITION', range(1,len(df)+1))"
   ]
  },
  {
   "cell_type": "markdown",
   "metadata": {},
   "source": [
    "![separator1](https://i.imgur.com/ZUWYTii.png)\n",
    "###### Now we update our main df and merge with the participant info"
   ]
  },
  {
   "cell_type": "code",
   "execution_count": 17,
   "metadata": {
    "scrolled": true
   },
   "outputs": [
    {
     "data": {
      "text/html": [
       "<div>\n",
       "<style scoped>\n",
       "    .dataframe tbody tr th:only-of-type {\n",
       "        vertical-align: middle;\n",
       "    }\n",
       "\n",
       "    .dataframe tbody tr th {\n",
       "        vertical-align: top;\n",
       "    }\n",
       "\n",
       "    .dataframe thead th {\n",
       "        text-align: right;\n",
       "    }\n",
       "</style>\n",
       "<table border=\"1\" class=\"dataframe\">\n",
       "  <thead>\n",
       "    <tr style=\"text-align: right;\">\n",
       "      <th></th>\n",
       "      <th>POSITION</th>\n",
       "      <th>CHIP</th>\n",
       "      <th>TIME</th>\n",
       "      <th>NUMBER</th>\n",
       "      <th>NAME</th>\n",
       "      <th>LAST NAME</th>\n",
       "      <th>GENDER</th>\n",
       "    </tr>\n",
       "  </thead>\n",
       "  <tbody>\n",
       "    <tr>\n",
       "      <th>0</th>\n",
       "      <td>2</td>\n",
       "      <td>5200230</td>\n",
       "      <td>11:59:57.69</td>\n",
       "      <td>230</td>\n",
       "      <td>DAVID CRUZ</td>\n",
       "      <td>VARGAS RODR¡GUEZ</td>\n",
       "      <td>M</td>\n",
       "    </tr>\n",
       "    <tr>\n",
       "      <th>1</th>\n",
       "      <td>3</td>\n",
       "      <td>5202070</td>\n",
       "      <td>12:01:35.80</td>\n",
       "      <td>2070</td>\n",
       "      <td>GERARDO</td>\n",
       "      <td>CERVANTES CORNEJO</td>\n",
       "      <td>M</td>\n",
       "    </tr>\n",
       "    <tr>\n",
       "      <th>2</th>\n",
       "      <td>4</td>\n",
       "      <td>5200141</td>\n",
       "      <td>12:01:57.87</td>\n",
       "      <td>141</td>\n",
       "      <td>PEDRO</td>\n",
       "      <td>ROSTADO</td>\n",
       "      <td>M</td>\n",
       "    </tr>\n",
       "    <tr>\n",
       "      <th>3</th>\n",
       "      <td>5</td>\n",
       "      <td>5200759</td>\n",
       "      <td>12:02:29.38</td>\n",
       "      <td>759</td>\n",
       "      <td>VICTOR</td>\n",
       "      <td>PEREZ ARREOLA</td>\n",
       "      <td>M</td>\n",
       "    </tr>\n",
       "    <tr>\n",
       "      <th>4</th>\n",
       "      <td>6</td>\n",
       "      <td>5200083</td>\n",
       "      <td>12:02:29.66</td>\n",
       "      <td>83</td>\n",
       "      <td>BRENDA</td>\n",
       "      <td>ARTEAGA</td>\n",
       "      <td>F</td>\n",
       "    </tr>\n",
       "  </tbody>\n",
       "</table>\n",
       "</div>"
      ],
      "text/plain": [
       "   POSITION     CHIP         TIME  NUMBER        NAME          LAST NAME  \\\n",
       "0         2  5200230  11:59:57.69     230  DAVID CRUZ   VARGAS RODR¡GUEZ   \n",
       "1         3  5202070  12:01:35.80    2070     GERARDO  CERVANTES CORNEJO   \n",
       "2         4  5200141  12:01:57.87     141       PEDRO            ROSTADO   \n",
       "3         5  5200759  12:02:29.38     759      VICTOR      PEREZ ARREOLA   \n",
       "4         6  5200083  12:02:29.66      83      BRENDA            ARTEAGA   \n",
       "\n",
       "  GENDER  \n",
       "0      M  \n",
       "1      M  \n",
       "2      M  \n",
       "3      M  \n",
       "4      F  "
      ]
     },
     "execution_count": 17,
     "metadata": {},
     "output_type": "execute_result"
    }
   ],
   "source": [
    "pd.merge(df, df_info, on ='NUMBER').head()"
   ]
  },
  {
   "cell_type": "markdown",
   "metadata": {},
   "source": [
    "###### Everything looks great, however, if we look closely, the participants with no data are skipped. And that should not happen"
   ]
  },
  {
   "cell_type": "code",
   "execution_count": 18,
   "metadata": {
    "scrolled": true
   },
   "outputs": [
    {
     "data": {
      "text/html": [
       "<div>\n",
       "<style scoped>\n",
       "    .dataframe tbody tr th:only-of-type {\n",
       "        vertical-align: middle;\n",
       "    }\n",
       "\n",
       "    .dataframe tbody tr th {\n",
       "        vertical-align: top;\n",
       "    }\n",
       "\n",
       "    .dataframe thead th {\n",
       "        text-align: right;\n",
       "    }\n",
       "</style>\n",
       "<table border=\"1\" class=\"dataframe\">\n",
       "  <thead>\n",
       "    <tr style=\"text-align: right;\">\n",
       "      <th></th>\n",
       "      <th>POSITION</th>\n",
       "      <th>CHIP</th>\n",
       "      <th>TIME</th>\n",
       "      <th>NUMBER</th>\n",
       "      <th>NAME</th>\n",
       "      <th>LAST NAME</th>\n",
       "      <th>GENDER</th>\n",
       "    </tr>\n",
       "  </thead>\n",
       "  <tbody>\n",
       "    <tr>\n",
       "      <th>0</th>\n",
       "      <td>1</td>\n",
       "      <td>5200829</td>\n",
       "      <td>11:57:26.18</td>\n",
       "      <td>829</td>\n",
       "      <td>NaN</td>\n",
       "      <td>NaN</td>\n",
       "      <td>NaN</td>\n",
       "    </tr>\n",
       "    <tr>\n",
       "      <th>1</th>\n",
       "      <td>2</td>\n",
       "      <td>5200230</td>\n",
       "      <td>11:59:57.69</td>\n",
       "      <td>230</td>\n",
       "      <td>DAVID CRUZ</td>\n",
       "      <td>VARGAS RODR¡GUEZ</td>\n",
       "      <td>M</td>\n",
       "    </tr>\n",
       "    <tr>\n",
       "      <th>2</th>\n",
       "      <td>3</td>\n",
       "      <td>5202070</td>\n",
       "      <td>12:01:35.80</td>\n",
       "      <td>2070</td>\n",
       "      <td>GERARDO</td>\n",
       "      <td>CERVANTES CORNEJO</td>\n",
       "      <td>M</td>\n",
       "    </tr>\n",
       "    <tr>\n",
       "      <th>3</th>\n",
       "      <td>4</td>\n",
       "      <td>5200141</td>\n",
       "      <td>12:01:57.87</td>\n",
       "      <td>141</td>\n",
       "      <td>PEDRO</td>\n",
       "      <td>ROSTADO</td>\n",
       "      <td>M</td>\n",
       "    </tr>\n",
       "    <tr>\n",
       "      <th>4</th>\n",
       "      <td>5</td>\n",
       "      <td>5200759</td>\n",
       "      <td>12:02:29.38</td>\n",
       "      <td>759</td>\n",
       "      <td>VICTOR</td>\n",
       "      <td>PEREZ ARREOLA</td>\n",
       "      <td>M</td>\n",
       "    </tr>\n",
       "  </tbody>\n",
       "</table>\n",
       "</div>"
      ],
      "text/plain": [
       "   POSITION     CHIP         TIME  NUMBER        NAME          LAST NAME  \\\n",
       "0         1  5200829  11:57:26.18     829         NaN                NaN   \n",
       "1         2  5200230  11:59:57.69     230  DAVID CRUZ   VARGAS RODR¡GUEZ   \n",
       "2         3  5202070  12:01:35.80    2070     GERARDO  CERVANTES CORNEJO   \n",
       "3         4  5200141  12:01:57.87     141       PEDRO            ROSTADO   \n",
       "4         5  5200759  12:02:29.38     759      VICTOR      PEREZ ARREOLA   \n",
       "\n",
       "  GENDER  \n",
       "0    NaN  \n",
       "1      M  \n",
       "2      M  \n",
       "3      M  \n",
       "4      M  "
      ]
     },
     "execution_count": 18,
     "metadata": {},
     "output_type": "execute_result"
    }
   ],
   "source": [
    "# now this will give more accurate results and it will include participants who registered late\n",
    "df = pd.merge(df, df_info, on ='NUMBER', how ='left')\n",
    "df.head()"
   ]
  },
  {
   "cell_type": "markdown",
   "metadata": {},
   "source": [
    "#### Now that our df looks good and has all the information, we can proceed with editing the presentation. \n",
    "##### First, we drop the chip data from the public results"
   ]
  },
  {
   "cell_type": "code",
   "execution_count": 19,
   "metadata": {},
   "outputs": [],
   "source": [
    "df = df.drop('CHIP', axis=1)"
   ]
  },
  {
   "cell_type": "code",
   "execution_count": 20,
   "metadata": {
    "scrolled": false
   },
   "outputs": [
    {
     "data": {
      "text/html": [
       "<div>\n",
       "<style scoped>\n",
       "    .dataframe tbody tr th:only-of-type {\n",
       "        vertical-align: middle;\n",
       "    }\n",
       "\n",
       "    .dataframe tbody tr th {\n",
       "        vertical-align: top;\n",
       "    }\n",
       "\n",
       "    .dataframe thead th {\n",
       "        text-align: right;\n",
       "    }\n",
       "</style>\n",
       "<table border=\"1\" class=\"dataframe\">\n",
       "  <thead>\n",
       "    <tr style=\"text-align: right;\">\n",
       "      <th></th>\n",
       "      <th>POSITION</th>\n",
       "      <th>TIME</th>\n",
       "      <th>NUMBER</th>\n",
       "      <th>NAME</th>\n",
       "      <th>LAST NAME</th>\n",
       "      <th>GENDER</th>\n",
       "    </tr>\n",
       "  </thead>\n",
       "  <tbody>\n",
       "    <tr>\n",
       "      <th>0</th>\n",
       "      <td>1</td>\n",
       "      <td>11:57:26.18</td>\n",
       "      <td>829</td>\n",
       "      <td>NaN</td>\n",
       "      <td>NaN</td>\n",
       "      <td>NaN</td>\n",
       "    </tr>\n",
       "    <tr>\n",
       "      <th>1</th>\n",
       "      <td>2</td>\n",
       "      <td>11:59:57.69</td>\n",
       "      <td>230</td>\n",
       "      <td>DAVID CRUZ</td>\n",
       "      <td>VARGAS RODR¡GUEZ</td>\n",
       "      <td>M</td>\n",
       "    </tr>\n",
       "    <tr>\n",
       "      <th>2</th>\n",
       "      <td>3</td>\n",
       "      <td>12:01:35.80</td>\n",
       "      <td>2070</td>\n",
       "      <td>GERARDO</td>\n",
       "      <td>CERVANTES CORNEJO</td>\n",
       "      <td>M</td>\n",
       "    </tr>\n",
       "    <tr>\n",
       "      <th>3</th>\n",
       "      <td>4</td>\n",
       "      <td>12:01:57.87</td>\n",
       "      <td>141</td>\n",
       "      <td>PEDRO</td>\n",
       "      <td>ROSTADO</td>\n",
       "      <td>M</td>\n",
       "    </tr>\n",
       "    <tr>\n",
       "      <th>4</th>\n",
       "      <td>5</td>\n",
       "      <td>12:02:29.38</td>\n",
       "      <td>759</td>\n",
       "      <td>VICTOR</td>\n",
       "      <td>PEREZ ARREOLA</td>\n",
       "      <td>M</td>\n",
       "    </tr>\n",
       "  </tbody>\n",
       "</table>\n",
       "</div>"
      ],
      "text/plain": [
       "   POSITION         TIME  NUMBER        NAME          LAST NAME GENDER\n",
       "0         1  11:57:26.18     829         NaN                NaN    NaN\n",
       "1         2  11:59:57.69     230  DAVID CRUZ   VARGAS RODR¡GUEZ      M\n",
       "2         3  12:01:35.80    2070     GERARDO  CERVANTES CORNEJO      M\n",
       "3         4  12:01:57.87     141       PEDRO            ROSTADO      M\n",
       "4         5  12:02:29.38     759      VICTOR      PEREZ ARREOLA      M"
      ]
     },
     "execution_count": 20,
     "metadata": {},
     "output_type": "execute_result"
    }
   ],
   "source": [
    "df.head()"
   ]
  },
  {
   "cell_type": "markdown",
   "metadata": {},
   "source": [
    "![separator1](https://i.imgur.com/ZUWYTii.png)\n",
    "###### Then, we need to fix the time, from hour of arrival into racing time (time of arrival - time of start). However, our TIME attribute is not in the propper format, yet."
   ]
  },
  {
   "cell_type": "code",
   "execution_count": 21,
   "metadata": {},
   "outputs": [
    {
     "name": "stdout",
     "output_type": "stream",
     "text": [
      "<class 'pandas.core.frame.DataFrame'>\n",
      "Int64Index: 1036 entries, 0 to 1035\n",
      "Data columns (total 6 columns):\n",
      " #   Column     Non-Null Count  Dtype \n",
      "---  ------     --------------  ----- \n",
      " 0   POSITION   1036 non-null   int32 \n",
      " 1   TIME       1036 non-null   object\n",
      " 2   NUMBER     1036 non-null   int64 \n",
      " 3   NAME       770 non-null    object\n",
      " 4   LAST NAME  770 non-null    object\n",
      " 5   GENDER     770 non-null    object\n",
      "dtypes: int32(1), int64(1), object(4)\n",
      "memory usage: 52.6+ KB\n"
     ]
    }
   ],
   "source": [
    "df.info()"
   ]
  },
  {
   "cell_type": "code",
   "execution_count": 22,
   "metadata": {},
   "outputs": [
    {
     "data": {
      "text/html": [
       "<div>\n",
       "<style scoped>\n",
       "    .dataframe tbody tr th:only-of-type {\n",
       "        vertical-align: middle;\n",
       "    }\n",
       "\n",
       "    .dataframe tbody tr th {\n",
       "        vertical-align: top;\n",
       "    }\n",
       "\n",
       "    .dataframe thead th {\n",
       "        text-align: right;\n",
       "    }\n",
       "</style>\n",
       "<table border=\"1\" class=\"dataframe\">\n",
       "  <thead>\n",
       "    <tr style=\"text-align: right;\">\n",
       "      <th></th>\n",
       "      <th>POSITION</th>\n",
       "      <th>TIME</th>\n",
       "      <th>NUMBER</th>\n",
       "      <th>NAME</th>\n",
       "      <th>LAST NAME</th>\n",
       "      <th>GENDER</th>\n",
       "    </tr>\n",
       "  </thead>\n",
       "  <tbody>\n",
       "    <tr>\n",
       "      <th>0</th>\n",
       "      <td>1</td>\n",
       "      <td>1900-01-01 11:57:26.180</td>\n",
       "      <td>829</td>\n",
       "      <td>NaN</td>\n",
       "      <td>NaN</td>\n",
       "      <td>NaN</td>\n",
       "    </tr>\n",
       "    <tr>\n",
       "      <th>1</th>\n",
       "      <td>2</td>\n",
       "      <td>1900-01-01 11:59:57.690</td>\n",
       "      <td>230</td>\n",
       "      <td>DAVID CRUZ</td>\n",
       "      <td>VARGAS RODR¡GUEZ</td>\n",
       "      <td>M</td>\n",
       "    </tr>\n",
       "    <tr>\n",
       "      <th>2</th>\n",
       "      <td>3</td>\n",
       "      <td>1900-01-01 12:01:35.800</td>\n",
       "      <td>2070</td>\n",
       "      <td>GERARDO</td>\n",
       "      <td>CERVANTES CORNEJO</td>\n",
       "      <td>M</td>\n",
       "    </tr>\n",
       "    <tr>\n",
       "      <th>3</th>\n",
       "      <td>4</td>\n",
       "      <td>1900-01-01 12:01:57.870</td>\n",
       "      <td>141</td>\n",
       "      <td>PEDRO</td>\n",
       "      <td>ROSTADO</td>\n",
       "      <td>M</td>\n",
       "    </tr>\n",
       "    <tr>\n",
       "      <th>4</th>\n",
       "      <td>5</td>\n",
       "      <td>1900-01-01 12:02:29.380</td>\n",
       "      <td>759</td>\n",
       "      <td>VICTOR</td>\n",
       "      <td>PEREZ ARREOLA</td>\n",
       "      <td>M</td>\n",
       "    </tr>\n",
       "  </tbody>\n",
       "</table>\n",
       "</div>"
      ],
      "text/plain": [
       "   POSITION                    TIME  NUMBER        NAME          LAST NAME  \\\n",
       "0         1 1900-01-01 11:57:26.180     829         NaN                NaN   \n",
       "1         2 1900-01-01 11:59:57.690     230  DAVID CRUZ   VARGAS RODR¡GUEZ   \n",
       "2         3 1900-01-01 12:01:35.800    2070     GERARDO  CERVANTES CORNEJO   \n",
       "3         4 1900-01-01 12:01:57.870     141       PEDRO            ROSTADO   \n",
       "4         5 1900-01-01 12:02:29.380     759      VICTOR      PEREZ ARREOLA   \n",
       "\n",
       "  GENDER  \n",
       "0    NaN  \n",
       "1      M  \n",
       "2      M  \n",
       "3      M  \n",
       "4      M  "
      ]
     },
     "execution_count": 22,
     "metadata": {},
     "output_type": "execute_result"
    }
   ],
   "source": [
    "df['TIME']= pd.to_datetime(df['TIME'], format='%H:%M:%S.%f')\n",
    "df.head()"
   ]
  },
  {
   "cell_type": "code",
   "execution_count": 23,
   "metadata": {},
   "outputs": [
    {
     "data": {
      "text/html": [
       "<div>\n",
       "<style scoped>\n",
       "    .dataframe tbody tr th:only-of-type {\n",
       "        vertical-align: middle;\n",
       "    }\n",
       "\n",
       "    .dataframe tbody tr th {\n",
       "        vertical-align: top;\n",
       "    }\n",
       "\n",
       "    .dataframe thead th {\n",
       "        text-align: right;\n",
       "    }\n",
       "</style>\n",
       "<table border=\"1\" class=\"dataframe\">\n",
       "  <thead>\n",
       "    <tr style=\"text-align: right;\">\n",
       "      <th></th>\n",
       "      <th>POSITION</th>\n",
       "      <th>TIME</th>\n",
       "      <th>NUMBER</th>\n",
       "      <th>NAME</th>\n",
       "      <th>LAST NAME</th>\n",
       "      <th>GENDER</th>\n",
       "    </tr>\n",
       "  </thead>\n",
       "  <tbody>\n",
       "    <tr>\n",
       "      <th>0</th>\n",
       "      <td>1</td>\n",
       "      <td>1900-01-01 01:57:26.180</td>\n",
       "      <td>829</td>\n",
       "      <td>NaN</td>\n",
       "      <td>NaN</td>\n",
       "      <td>NaN</td>\n",
       "    </tr>\n",
       "    <tr>\n",
       "      <th>1</th>\n",
       "      <td>2</td>\n",
       "      <td>1900-01-01 01:59:57.690</td>\n",
       "      <td>230</td>\n",
       "      <td>DAVID CRUZ</td>\n",
       "      <td>VARGAS RODR¡GUEZ</td>\n",
       "      <td>M</td>\n",
       "    </tr>\n",
       "    <tr>\n",
       "      <th>2</th>\n",
       "      <td>3</td>\n",
       "      <td>1900-01-01 02:01:35.800</td>\n",
       "      <td>2070</td>\n",
       "      <td>GERARDO</td>\n",
       "      <td>CERVANTES CORNEJO</td>\n",
       "      <td>M</td>\n",
       "    </tr>\n",
       "    <tr>\n",
       "      <th>3</th>\n",
       "      <td>4</td>\n",
       "      <td>1900-01-01 02:01:57.870</td>\n",
       "      <td>141</td>\n",
       "      <td>PEDRO</td>\n",
       "      <td>ROSTADO</td>\n",
       "      <td>M</td>\n",
       "    </tr>\n",
       "    <tr>\n",
       "      <th>4</th>\n",
       "      <td>5</td>\n",
       "      <td>1900-01-01 02:02:29.380</td>\n",
       "      <td>759</td>\n",
       "      <td>VICTOR</td>\n",
       "      <td>PEREZ ARREOLA</td>\n",
       "      <td>M</td>\n",
       "    </tr>\n",
       "  </tbody>\n",
       "</table>\n",
       "</div>"
      ],
      "text/plain": [
       "   POSITION                    TIME  NUMBER        NAME          LAST NAME  \\\n",
       "0         1 1900-01-01 01:57:26.180     829         NaN                NaN   \n",
       "1         2 1900-01-01 01:59:57.690     230  DAVID CRUZ   VARGAS RODR¡GUEZ   \n",
       "2         3 1900-01-01 02:01:35.800    2070     GERARDO  CERVANTES CORNEJO   \n",
       "3         4 1900-01-01 02:01:57.870     141       PEDRO            ROSTADO   \n",
       "4         5 1900-01-01 02:02:29.380     759      VICTOR      PEREZ ARREOLA   \n",
       "\n",
       "  GENDER  \n",
       "0    NaN  \n",
       "1      M  \n",
       "2      M  \n",
       "3      M  \n",
       "4      M  "
      ]
     },
     "execution_count": 23,
     "metadata": {},
     "output_type": "execute_result"
    }
   ],
   "source": [
    "df['TIME'] = df['TIME'] - pd.Timedelta(hours=10, minutes=0, seconds=0) \n",
    "df.head()"
   ]
  },
  {
   "cell_type": "code",
   "execution_count": 24,
   "metadata": {
    "scrolled": true
   },
   "outputs": [
    {
     "data": {
      "text/html": [
       "<div>\n",
       "<style scoped>\n",
       "    .dataframe tbody tr th:only-of-type {\n",
       "        vertical-align: middle;\n",
       "    }\n",
       "\n",
       "    .dataframe tbody tr th {\n",
       "        vertical-align: top;\n",
       "    }\n",
       "\n",
       "    .dataframe thead th {\n",
       "        text-align: right;\n",
       "    }\n",
       "</style>\n",
       "<table border=\"1\" class=\"dataframe\">\n",
       "  <thead>\n",
       "    <tr style=\"text-align: right;\">\n",
       "      <th></th>\n",
       "      <th>POSITION</th>\n",
       "      <th>TIME</th>\n",
       "      <th>NUMBER</th>\n",
       "      <th>NAME</th>\n",
       "      <th>LAST NAME</th>\n",
       "      <th>GENDER</th>\n",
       "    </tr>\n",
       "  </thead>\n",
       "  <tbody>\n",
       "    <tr>\n",
       "      <th>0</th>\n",
       "      <td>1</td>\n",
       "      <td>01:57:26</td>\n",
       "      <td>829</td>\n",
       "      <td>NaN</td>\n",
       "      <td>NaN</td>\n",
       "      <td>NaN</td>\n",
       "    </tr>\n",
       "    <tr>\n",
       "      <th>1</th>\n",
       "      <td>2</td>\n",
       "      <td>01:59:57</td>\n",
       "      <td>230</td>\n",
       "      <td>DAVID CRUZ</td>\n",
       "      <td>VARGAS RODR¡GUEZ</td>\n",
       "      <td>M</td>\n",
       "    </tr>\n",
       "    <tr>\n",
       "      <th>2</th>\n",
       "      <td>3</td>\n",
       "      <td>02:01:35</td>\n",
       "      <td>2070</td>\n",
       "      <td>GERARDO</td>\n",
       "      <td>CERVANTES CORNEJO</td>\n",
       "      <td>M</td>\n",
       "    </tr>\n",
       "    <tr>\n",
       "      <th>3</th>\n",
       "      <td>4</td>\n",
       "      <td>02:01:57</td>\n",
       "      <td>141</td>\n",
       "      <td>PEDRO</td>\n",
       "      <td>ROSTADO</td>\n",
       "      <td>M</td>\n",
       "    </tr>\n",
       "    <tr>\n",
       "      <th>4</th>\n",
       "      <td>5</td>\n",
       "      <td>02:02:29</td>\n",
       "      <td>759</td>\n",
       "      <td>VICTOR</td>\n",
       "      <td>PEREZ ARREOLA</td>\n",
       "      <td>M</td>\n",
       "    </tr>\n",
       "  </tbody>\n",
       "</table>\n",
       "</div>"
      ],
      "text/plain": [
       "   POSITION      TIME  NUMBER        NAME          LAST NAME GENDER\n",
       "0         1  01:57:26     829         NaN                NaN    NaN\n",
       "1         2  01:59:57     230  DAVID CRUZ   VARGAS RODR¡GUEZ      M\n",
       "2         3  02:01:35    2070     GERARDO  CERVANTES CORNEJO      M\n",
       "3         4  02:01:57     141       PEDRO            ROSTADO      M\n",
       "4         5  02:02:29     759      VICTOR      PEREZ ARREOLA      M"
      ]
     },
     "execution_count": 24,
     "metadata": {},
     "output_type": "execute_result"
    }
   ],
   "source": [
    "df['TIME'] = df['TIME'].dt.strftime('%H:%M:%S')\n",
    "df.head()"
   ]
  },
  {
   "cell_type": "markdown",
   "metadata": {},
   "source": [
    "In the real world, we will keep this df as it is, because some participants may introduce their info after the race, or even after the award ceremony. "
   ]
  },
  {
   "cell_type": "markdown",
   "metadata": {},
   "source": [
    "![purple-divider](https://user-images.githubusercontent.com/7065401/52071927-c1cd7100-2562-11e9-908a-dde91ba14e59.png) \n",
    "\n",
    "### Time for some reporting  \n",
    "###### lets get the results by gender \n",
    "But first, we should know if all our data regarding gender is correct. It must be M, F or null."
   ]
  },
  {
   "cell_type": "code",
   "execution_count": 25,
   "metadata": {},
   "outputs": [
    {
     "data": {
      "text/plain": [
       "array([nan, 'M', 'F'], dtype=object)"
      ]
     },
     "execution_count": 25,
     "metadata": {},
     "output_type": "execute_result"
    }
   ],
   "source": [
    "df['GENDER'].unique()"
   ]
  },
  {
   "cell_type": "markdown",
   "metadata": {},
   "source": [
    "All good, we may proceed. "
   ]
  },
  {
   "cell_type": "code",
   "execution_count": 26,
   "metadata": {},
   "outputs": [
    {
     "data": {
      "text/plain": [
       "0       False\n",
       "1       False\n",
       "2       False\n",
       "3       False\n",
       "4       False\n",
       "        ...  \n",
       "1031    False\n",
       "1032    False\n",
       "1033    False\n",
       "1034    False\n",
       "1035    False\n",
       "Name: GENDER, Length: 1036, dtype: bool"
      ]
     },
     "execution_count": 26,
     "metadata": {},
     "output_type": "execute_result"
    }
   ],
   "source": [
    "#first we create our female mask \n",
    "female_r = df['GENDER']=='F'\n",
    "female_r"
   ]
  },
  {
   "cell_type": "code",
   "execution_count": 27,
   "metadata": {},
   "outputs": [
    {
     "data": {
      "text/html": [
       "<div>\n",
       "<style scoped>\n",
       "    .dataframe tbody tr th:only-of-type {\n",
       "        vertical-align: middle;\n",
       "    }\n",
       "\n",
       "    .dataframe tbody tr th {\n",
       "        vertical-align: top;\n",
       "    }\n",
       "\n",
       "    .dataframe thead th {\n",
       "        text-align: right;\n",
       "    }\n",
       "</style>\n",
       "<table border=\"1\" class=\"dataframe\">\n",
       "  <thead>\n",
       "    <tr style=\"text-align: right;\">\n",
       "      <th></th>\n",
       "      <th>POSITION</th>\n",
       "      <th>TIME</th>\n",
       "      <th>NUMBER</th>\n",
       "      <th>NAME</th>\n",
       "      <th>LAST NAME</th>\n",
       "      <th>GENDER</th>\n",
       "    </tr>\n",
       "  </thead>\n",
       "  <tbody>\n",
       "    <tr>\n",
       "      <th>5</th>\n",
       "      <td>6</td>\n",
       "      <td>02:02:29</td>\n",
       "      <td>83</td>\n",
       "      <td>BRENDA</td>\n",
       "      <td>ARTEAGA</td>\n",
       "      <td>F</td>\n",
       "    </tr>\n",
       "    <tr>\n",
       "      <th>9</th>\n",
       "      <td>10</td>\n",
       "      <td>02:13:37</td>\n",
       "      <td>627</td>\n",
       "      <td>ZULEMA</td>\n",
       "      <td>CALDERON CHAVEZ</td>\n",
       "      <td>F</td>\n",
       "    </tr>\n",
       "    <tr>\n",
       "      <th>12</th>\n",
       "      <td>13</td>\n",
       "      <td>02:14:58</td>\n",
       "      <td>177</td>\n",
       "      <td>LAURA</td>\n",
       "      <td>HERN NDEZ LE¢N</td>\n",
       "      <td>F</td>\n",
       "    </tr>\n",
       "    <tr>\n",
       "      <th>48</th>\n",
       "      <td>49</td>\n",
       "      <td>02:45:49</td>\n",
       "      <td>398</td>\n",
       "      <td>MARTHA PATRICIA</td>\n",
       "      <td>GONZALEZ</td>\n",
       "      <td>F</td>\n",
       "    </tr>\n",
       "    <tr>\n",
       "      <th>82</th>\n",
       "      <td>83</td>\n",
       "      <td>02:56:41</td>\n",
       "      <td>2798</td>\n",
       "      <td>JACQUELINE</td>\n",
       "      <td>SOTO ESCALANTE</td>\n",
       "      <td>F</td>\n",
       "    </tr>\n",
       "  </tbody>\n",
       "</table>\n",
       "</div>"
      ],
      "text/plain": [
       "    POSITION      TIME  NUMBER             NAME        LAST NAME GENDER\n",
       "5          6  02:02:29      83           BRENDA          ARTEAGA      F\n",
       "9         10  02:13:37     627           ZULEMA  CALDERON CHAVEZ      F\n",
       "12        13  02:14:58     177            LAURA   HERN NDEZ LE¢N      F\n",
       "48        49  02:45:49     398  MARTHA PATRICIA         GONZALEZ      F\n",
       "82        83  02:56:41    2798       JACQUELINE   SOTO ESCALANTE      F"
      ]
     },
     "execution_count": 27,
     "metadata": {},
     "output_type": "execute_result"
    }
   ],
   "source": [
    "#mask created and applied\n",
    "f_df = df[female_r]\n",
    "f_df.head()"
   ]
  },
  {
   "cell_type": "code",
   "execution_count": 28,
   "metadata": {
    "scrolled": true
   },
   "outputs": [
    {
     "name": "stderr",
     "output_type": "stream",
     "text": [
      "<ipython-input-28-5b51b2b28216>:2: SettingWithCopyWarning: \n",
      "A value is trying to be set on a copy of a slice from a DataFrame.\n",
      "Try using .loc[row_indexer,col_indexer] = value instead\n",
      "\n",
      "See the caveats in the documentation: https://pandas.pydata.org/pandas-docs/stable/user_guide/indexing.html#returning-a-view-versus-a-copy\n",
      "  f_df['POSITION'] = range(1,len(f_df)+1)\n"
     ]
    },
    {
     "data": {
      "text/html": [
       "<div>\n",
       "<style scoped>\n",
       "    .dataframe tbody tr th:only-of-type {\n",
       "        vertical-align: middle;\n",
       "    }\n",
       "\n",
       "    .dataframe tbody tr th {\n",
       "        vertical-align: top;\n",
       "    }\n",
       "\n",
       "    .dataframe thead th {\n",
       "        text-align: right;\n",
       "    }\n",
       "</style>\n",
       "<table border=\"1\" class=\"dataframe\">\n",
       "  <thead>\n",
       "    <tr style=\"text-align: right;\">\n",
       "      <th></th>\n",
       "      <th>POSITION</th>\n",
       "      <th>TIME</th>\n",
       "      <th>NUMBER</th>\n",
       "      <th>NAME</th>\n",
       "      <th>LAST NAME</th>\n",
       "      <th>GENDER</th>\n",
       "    </tr>\n",
       "  </thead>\n",
       "  <tbody>\n",
       "    <tr>\n",
       "      <th>5</th>\n",
       "      <td>1</td>\n",
       "      <td>02:02:29</td>\n",
       "      <td>83</td>\n",
       "      <td>BRENDA</td>\n",
       "      <td>ARTEAGA</td>\n",
       "      <td>F</td>\n",
       "    </tr>\n",
       "    <tr>\n",
       "      <th>9</th>\n",
       "      <td>2</td>\n",
       "      <td>02:13:37</td>\n",
       "      <td>627</td>\n",
       "      <td>ZULEMA</td>\n",
       "      <td>CALDERON CHAVEZ</td>\n",
       "      <td>F</td>\n",
       "    </tr>\n",
       "    <tr>\n",
       "      <th>12</th>\n",
       "      <td>3</td>\n",
       "      <td>02:14:58</td>\n",
       "      <td>177</td>\n",
       "      <td>LAURA</td>\n",
       "      <td>HERN NDEZ LE¢N</td>\n",
       "      <td>F</td>\n",
       "    </tr>\n",
       "    <tr>\n",
       "      <th>48</th>\n",
       "      <td>4</td>\n",
       "      <td>02:45:49</td>\n",
       "      <td>398</td>\n",
       "      <td>MARTHA PATRICIA</td>\n",
       "      <td>GONZALEZ</td>\n",
       "      <td>F</td>\n",
       "    </tr>\n",
       "    <tr>\n",
       "      <th>82</th>\n",
       "      <td>5</td>\n",
       "      <td>02:56:41</td>\n",
       "      <td>2798</td>\n",
       "      <td>JACQUELINE</td>\n",
       "      <td>SOTO ESCALANTE</td>\n",
       "      <td>F</td>\n",
       "    </tr>\n",
       "  </tbody>\n",
       "</table>\n",
       "</div>"
      ],
      "text/plain": [
       "    POSITION      TIME  NUMBER             NAME        LAST NAME GENDER\n",
       "5          1  02:02:29      83           BRENDA          ARTEAGA      F\n",
       "9          2  02:13:37     627           ZULEMA  CALDERON CHAVEZ      F\n",
       "12         3  02:14:58     177            LAURA   HERN NDEZ LE¢N      F\n",
       "48         4  02:45:49     398  MARTHA PATRICIA         GONZALEZ      F\n",
       "82         5  02:56:41    2798       JACQUELINE   SOTO ESCALANTE      F"
      ]
     },
     "execution_count": 28,
     "metadata": {},
     "output_type": "execute_result"
    }
   ],
   "source": [
    "#Here we reset the 'position' column\n",
    "f_df['POSITION'] = range(1,len(f_df)+1)\n",
    "f_df.head()"
   ]
  },
  {
   "cell_type": "markdown",
   "metadata": {},
   "source": [
    "![separator1](https://i.imgur.com/ZUWYTii.png)\n",
    "Repeat the same steps for male"
   ]
  },
  {
   "cell_type": "code",
   "execution_count": 29,
   "metadata": {},
   "outputs": [
    {
     "data": {
      "text/plain": [
       "0       False\n",
       "1        True\n",
       "2        True\n",
       "3        True\n",
       "4        True\n",
       "        ...  \n",
       "1031     True\n",
       "1032    False\n",
       "1033    False\n",
       "1034    False\n",
       "1035     True\n",
       "Name: GENDER, Length: 1036, dtype: bool"
      ]
     },
     "execution_count": 29,
     "metadata": {},
     "output_type": "execute_result"
    }
   ],
   "source": [
    "#we create a mask\n",
    "male_r = df['GENDER']=='M'\n",
    "male_r"
   ]
  },
  {
   "cell_type": "code",
   "execution_count": 30,
   "metadata": {},
   "outputs": [
    {
     "data": {
      "text/html": [
       "<div>\n",
       "<style scoped>\n",
       "    .dataframe tbody tr th:only-of-type {\n",
       "        vertical-align: middle;\n",
       "    }\n",
       "\n",
       "    .dataframe tbody tr th {\n",
       "        vertical-align: top;\n",
       "    }\n",
       "\n",
       "    .dataframe thead th {\n",
       "        text-align: right;\n",
       "    }\n",
       "</style>\n",
       "<table border=\"1\" class=\"dataframe\">\n",
       "  <thead>\n",
       "    <tr style=\"text-align: right;\">\n",
       "      <th></th>\n",
       "      <th>POSITION</th>\n",
       "      <th>TIME</th>\n",
       "      <th>NUMBER</th>\n",
       "      <th>NAME</th>\n",
       "      <th>LAST NAME</th>\n",
       "      <th>GENDER</th>\n",
       "    </tr>\n",
       "  </thead>\n",
       "  <tbody>\n",
       "    <tr>\n",
       "      <th>1</th>\n",
       "      <td>2</td>\n",
       "      <td>01:59:57</td>\n",
       "      <td>230</td>\n",
       "      <td>DAVID CRUZ</td>\n",
       "      <td>VARGAS RODR¡GUEZ</td>\n",
       "      <td>M</td>\n",
       "    </tr>\n",
       "    <tr>\n",
       "      <th>2</th>\n",
       "      <td>3</td>\n",
       "      <td>02:01:35</td>\n",
       "      <td>2070</td>\n",
       "      <td>GERARDO</td>\n",
       "      <td>CERVANTES CORNEJO</td>\n",
       "      <td>M</td>\n",
       "    </tr>\n",
       "    <tr>\n",
       "      <th>3</th>\n",
       "      <td>4</td>\n",
       "      <td>02:01:57</td>\n",
       "      <td>141</td>\n",
       "      <td>PEDRO</td>\n",
       "      <td>ROSTADO</td>\n",
       "      <td>M</td>\n",
       "    </tr>\n",
       "    <tr>\n",
       "      <th>4</th>\n",
       "      <td>5</td>\n",
       "      <td>02:02:29</td>\n",
       "      <td>759</td>\n",
       "      <td>VICTOR</td>\n",
       "      <td>PEREZ ARREOLA</td>\n",
       "      <td>M</td>\n",
       "    </tr>\n",
       "    <tr>\n",
       "      <th>7</th>\n",
       "      <td>8</td>\n",
       "      <td>02:06:41</td>\n",
       "      <td>439</td>\n",
       "      <td>OCIEL</td>\n",
       "      <td>PEREZ</td>\n",
       "      <td>M</td>\n",
       "    </tr>\n",
       "  </tbody>\n",
       "</table>\n",
       "</div>"
      ],
      "text/plain": [
       "   POSITION      TIME  NUMBER        NAME          LAST NAME GENDER\n",
       "1         2  01:59:57     230  DAVID CRUZ   VARGAS RODR¡GUEZ      M\n",
       "2         3  02:01:35    2070     GERARDO  CERVANTES CORNEJO      M\n",
       "3         4  02:01:57     141       PEDRO            ROSTADO      M\n",
       "4         5  02:02:29     759      VICTOR      PEREZ ARREOLA      M\n",
       "7         8  02:06:41     439       OCIEL              PEREZ      M"
      ]
     },
     "execution_count": 30,
     "metadata": {},
     "output_type": "execute_result"
    }
   ],
   "source": [
    "#created and applied\n",
    "m_df = df[male_r]\n",
    "m_df.head()"
   ]
  },
  {
   "cell_type": "code",
   "execution_count": 31,
   "metadata": {},
   "outputs": [
    {
     "name": "stderr",
     "output_type": "stream",
     "text": [
      "<ipython-input-31-a2c9ccf806b5>:2: SettingWithCopyWarning: \n",
      "A value is trying to be set on a copy of a slice from a DataFrame.\n",
      "Try using .loc[row_indexer,col_indexer] = value instead\n",
      "\n",
      "See the caveats in the documentation: https://pandas.pydata.org/pandas-docs/stable/user_guide/indexing.html#returning-a-view-versus-a-copy\n",
      "  m_df['POSITION']=range(1,len(m_df)+1)\n"
     ]
    },
    {
     "data": {
      "text/html": [
       "<div>\n",
       "<style scoped>\n",
       "    .dataframe tbody tr th:only-of-type {\n",
       "        vertical-align: middle;\n",
       "    }\n",
       "\n",
       "    .dataframe tbody tr th {\n",
       "        vertical-align: top;\n",
       "    }\n",
       "\n",
       "    .dataframe thead th {\n",
       "        text-align: right;\n",
       "    }\n",
       "</style>\n",
       "<table border=\"1\" class=\"dataframe\">\n",
       "  <thead>\n",
       "    <tr style=\"text-align: right;\">\n",
       "      <th></th>\n",
       "      <th>POSITION</th>\n",
       "      <th>TIME</th>\n",
       "      <th>NUMBER</th>\n",
       "      <th>NAME</th>\n",
       "      <th>LAST NAME</th>\n",
       "      <th>GENDER</th>\n",
       "    </tr>\n",
       "  </thead>\n",
       "  <tbody>\n",
       "    <tr>\n",
       "      <th>1</th>\n",
       "      <td>1</td>\n",
       "      <td>01:59:57</td>\n",
       "      <td>230</td>\n",
       "      <td>DAVID CRUZ</td>\n",
       "      <td>VARGAS RODR¡GUEZ</td>\n",
       "      <td>M</td>\n",
       "    </tr>\n",
       "    <tr>\n",
       "      <th>2</th>\n",
       "      <td>2</td>\n",
       "      <td>02:01:35</td>\n",
       "      <td>2070</td>\n",
       "      <td>GERARDO</td>\n",
       "      <td>CERVANTES CORNEJO</td>\n",
       "      <td>M</td>\n",
       "    </tr>\n",
       "    <tr>\n",
       "      <th>3</th>\n",
       "      <td>3</td>\n",
       "      <td>02:01:57</td>\n",
       "      <td>141</td>\n",
       "      <td>PEDRO</td>\n",
       "      <td>ROSTADO</td>\n",
       "      <td>M</td>\n",
       "    </tr>\n",
       "    <tr>\n",
       "      <th>4</th>\n",
       "      <td>4</td>\n",
       "      <td>02:02:29</td>\n",
       "      <td>759</td>\n",
       "      <td>VICTOR</td>\n",
       "      <td>PEREZ ARREOLA</td>\n",
       "      <td>M</td>\n",
       "    </tr>\n",
       "    <tr>\n",
       "      <th>7</th>\n",
       "      <td>5</td>\n",
       "      <td>02:06:41</td>\n",
       "      <td>439</td>\n",
       "      <td>OCIEL</td>\n",
       "      <td>PEREZ</td>\n",
       "      <td>M</td>\n",
       "    </tr>\n",
       "  </tbody>\n",
       "</table>\n",
       "</div>"
      ],
      "text/plain": [
       "   POSITION      TIME  NUMBER        NAME          LAST NAME GENDER\n",
       "1         1  01:59:57     230  DAVID CRUZ   VARGAS RODR¡GUEZ      M\n",
       "2         2  02:01:35    2070     GERARDO  CERVANTES CORNEJO      M\n",
       "3         3  02:01:57     141       PEDRO            ROSTADO      M\n",
       "4         4  02:02:29     759      VICTOR      PEREZ ARREOLA      M\n",
       "7         5  02:06:41     439       OCIEL              PEREZ      M"
      ]
     },
     "execution_count": 31,
     "metadata": {},
     "output_type": "execute_result"
    }
   ],
   "source": [
    "#reset the position values\n",
    "m_df['POSITION']=range(1,len(m_df)+1)\n",
    "m_df.head()"
   ]
  },
  {
   "cell_type": "markdown",
   "metadata": {},
   "source": [
    "![separator1](https://i.imgur.com/ZUWYTii.png)\n",
    " Finally, repeat for non registered"
   ]
  },
  {
   "cell_type": "code",
   "execution_count": 32,
   "metadata": {},
   "outputs": [
    {
     "data": {
      "text/plain": [
       "0        True\n",
       "1       False\n",
       "2       False\n",
       "3       False\n",
       "4       False\n",
       "        ...  \n",
       "1031    False\n",
       "1032     True\n",
       "1033     True\n",
       "1034     True\n",
       "1035    False\n",
       "Name: GENDER, Length: 1036, dtype: bool"
      ]
     },
     "execution_count": 32,
     "metadata": {},
     "output_type": "execute_result"
    }
   ],
   "source": [
    "non_r = pd.isnull(df['GENDER'])\n",
    "non_r"
   ]
  },
  {
   "cell_type": "code",
   "execution_count": 33,
   "metadata": {},
   "outputs": [
    {
     "data": {
      "text/html": [
       "<div>\n",
       "<style scoped>\n",
       "    .dataframe tbody tr th:only-of-type {\n",
       "        vertical-align: middle;\n",
       "    }\n",
       "\n",
       "    .dataframe tbody tr th {\n",
       "        vertical-align: top;\n",
       "    }\n",
       "\n",
       "    .dataframe thead th {\n",
       "        text-align: right;\n",
       "    }\n",
       "</style>\n",
       "<table border=\"1\" class=\"dataframe\">\n",
       "  <thead>\n",
       "    <tr style=\"text-align: right;\">\n",
       "      <th></th>\n",
       "      <th>POSITION</th>\n",
       "      <th>TIME</th>\n",
       "      <th>NUMBER</th>\n",
       "      <th>NAME</th>\n",
       "      <th>LAST NAME</th>\n",
       "      <th>GENDER</th>\n",
       "    </tr>\n",
       "  </thead>\n",
       "  <tbody>\n",
       "    <tr>\n",
       "      <th>0</th>\n",
       "      <td>1</td>\n",
       "      <td>01:57:26</td>\n",
       "      <td>829</td>\n",
       "      <td>NaN</td>\n",
       "      <td>NaN</td>\n",
       "      <td>NaN</td>\n",
       "    </tr>\n",
       "    <tr>\n",
       "      <th>6</th>\n",
       "      <td>7</td>\n",
       "      <td>02:04:56</td>\n",
       "      <td>830</td>\n",
       "      <td>NaN</td>\n",
       "      <td>NaN</td>\n",
       "      <td>NaN</td>\n",
       "    </tr>\n",
       "    <tr>\n",
       "      <th>10</th>\n",
       "      <td>11</td>\n",
       "      <td>02:13:41</td>\n",
       "      <td>2455</td>\n",
       "      <td>NaN</td>\n",
       "      <td>NaN</td>\n",
       "      <td>NaN</td>\n",
       "    </tr>\n",
       "    <tr>\n",
       "      <th>32</th>\n",
       "      <td>33</td>\n",
       "      <td>02:36:46</td>\n",
       "      <td>813</td>\n",
       "      <td>NaN</td>\n",
       "      <td>NaN</td>\n",
       "      <td>NaN</td>\n",
       "    </tr>\n",
       "    <tr>\n",
       "      <th>33</th>\n",
       "      <td>34</td>\n",
       "      <td>02:36:46</td>\n",
       "      <td>812</td>\n",
       "      <td>NaN</td>\n",
       "      <td>NaN</td>\n",
       "      <td>NaN</td>\n",
       "    </tr>\n",
       "  </tbody>\n",
       "</table>\n",
       "</div>"
      ],
      "text/plain": [
       "    POSITION      TIME  NUMBER NAME LAST NAME GENDER\n",
       "0          1  01:57:26     829  NaN       NaN    NaN\n",
       "6          7  02:04:56     830  NaN       NaN    NaN\n",
       "10        11  02:13:41    2455  NaN       NaN    NaN\n",
       "32        33  02:36:46     813  NaN       NaN    NaN\n",
       "33        34  02:36:46     812  NaN       NaN    NaN"
      ]
     },
     "execution_count": 33,
     "metadata": {},
     "output_type": "execute_result"
    }
   ],
   "source": [
    "#created and applied\n",
    "nonr_df = df[non_r]\n",
    "nonr_df.head()"
   ]
  },
  {
   "cell_type": "code",
   "execution_count": 34,
   "metadata": {},
   "outputs": [
    {
     "name": "stderr",
     "output_type": "stream",
     "text": [
      "<ipython-input-34-ba9a597cd6ee>:2: SettingWithCopyWarning: \n",
      "A value is trying to be set on a copy of a slice from a DataFrame.\n",
      "Try using .loc[row_indexer,col_indexer] = value instead\n",
      "\n",
      "See the caveats in the documentation: https://pandas.pydata.org/pandas-docs/stable/user_guide/indexing.html#returning-a-view-versus-a-copy\n",
      "  nonr_df['POSITION']=range(1,len(nonr_df)+1)\n"
     ]
    },
    {
     "data": {
      "text/html": [
       "<div>\n",
       "<style scoped>\n",
       "    .dataframe tbody tr th:only-of-type {\n",
       "        vertical-align: middle;\n",
       "    }\n",
       "\n",
       "    .dataframe tbody tr th {\n",
       "        vertical-align: top;\n",
       "    }\n",
       "\n",
       "    .dataframe thead th {\n",
       "        text-align: right;\n",
       "    }\n",
       "</style>\n",
       "<table border=\"1\" class=\"dataframe\">\n",
       "  <thead>\n",
       "    <tr style=\"text-align: right;\">\n",
       "      <th></th>\n",
       "      <th>POSITION</th>\n",
       "      <th>TIME</th>\n",
       "      <th>NUMBER</th>\n",
       "      <th>NAME</th>\n",
       "      <th>LAST NAME</th>\n",
       "      <th>GENDER</th>\n",
       "    </tr>\n",
       "  </thead>\n",
       "  <tbody>\n",
       "    <tr>\n",
       "      <th>0</th>\n",
       "      <td>1</td>\n",
       "      <td>01:57:26</td>\n",
       "      <td>829</td>\n",
       "      <td>NaN</td>\n",
       "      <td>NaN</td>\n",
       "      <td>NaN</td>\n",
       "    </tr>\n",
       "    <tr>\n",
       "      <th>6</th>\n",
       "      <td>2</td>\n",
       "      <td>02:04:56</td>\n",
       "      <td>830</td>\n",
       "      <td>NaN</td>\n",
       "      <td>NaN</td>\n",
       "      <td>NaN</td>\n",
       "    </tr>\n",
       "    <tr>\n",
       "      <th>10</th>\n",
       "      <td>3</td>\n",
       "      <td>02:13:41</td>\n",
       "      <td>2455</td>\n",
       "      <td>NaN</td>\n",
       "      <td>NaN</td>\n",
       "      <td>NaN</td>\n",
       "    </tr>\n",
       "    <tr>\n",
       "      <th>32</th>\n",
       "      <td>4</td>\n",
       "      <td>02:36:46</td>\n",
       "      <td>813</td>\n",
       "      <td>NaN</td>\n",
       "      <td>NaN</td>\n",
       "      <td>NaN</td>\n",
       "    </tr>\n",
       "    <tr>\n",
       "      <th>33</th>\n",
       "      <td>5</td>\n",
       "      <td>02:36:46</td>\n",
       "      <td>812</td>\n",
       "      <td>NaN</td>\n",
       "      <td>NaN</td>\n",
       "      <td>NaN</td>\n",
       "    </tr>\n",
       "  </tbody>\n",
       "</table>\n",
       "</div>"
      ],
      "text/plain": [
       "    POSITION      TIME  NUMBER NAME LAST NAME GENDER\n",
       "0          1  01:57:26     829  NaN       NaN    NaN\n",
       "6          2  02:04:56     830  NaN       NaN    NaN\n",
       "10         3  02:13:41    2455  NaN       NaN    NaN\n",
       "32         4  02:36:46     813  NaN       NaN    NaN\n",
       "33         5  02:36:46     812  NaN       NaN    NaN"
      ]
     },
     "execution_count": 34,
     "metadata": {},
     "output_type": "execute_result"
    }
   ],
   "source": [
    "#reset the position values\n",
    "nonr_df['POSITION']=range(1,len(nonr_df)+1)\n",
    "nonr_df.head()"
   ]
  },
  {
   "cell_type": "code",
   "execution_count": 35,
   "metadata": {},
   "outputs": [
    {
     "data": {
      "text/html": [
       "<div>\n",
       "<style scoped>\n",
       "    .dataframe tbody tr th:only-of-type {\n",
       "        vertical-align: middle;\n",
       "    }\n",
       "\n",
       "    .dataframe tbody tr th {\n",
       "        vertical-align: top;\n",
       "    }\n",
       "\n",
       "    .dataframe thead th {\n",
       "        text-align: right;\n",
       "    }\n",
       "</style>\n",
       "<table border=\"1\" class=\"dataframe\">\n",
       "  <thead>\n",
       "    <tr style=\"text-align: right;\">\n",
       "      <th></th>\n",
       "      <th>POSITION</th>\n",
       "      <th>TIME</th>\n",
       "      <th>NUMBER</th>\n",
       "    </tr>\n",
       "  </thead>\n",
       "  <tbody>\n",
       "    <tr>\n",
       "      <th>0</th>\n",
       "      <td>1</td>\n",
       "      <td>01:57:26</td>\n",
       "      <td>829</td>\n",
       "    </tr>\n",
       "    <tr>\n",
       "      <th>6</th>\n",
       "      <td>2</td>\n",
       "      <td>02:04:56</td>\n",
       "      <td>830</td>\n",
       "    </tr>\n",
       "    <tr>\n",
       "      <th>10</th>\n",
       "      <td>3</td>\n",
       "      <td>02:13:41</td>\n",
       "      <td>2455</td>\n",
       "    </tr>\n",
       "    <tr>\n",
       "      <th>32</th>\n",
       "      <td>4</td>\n",
       "      <td>02:36:46</td>\n",
       "      <td>813</td>\n",
       "    </tr>\n",
       "    <tr>\n",
       "      <th>33</th>\n",
       "      <td>5</td>\n",
       "      <td>02:36:46</td>\n",
       "      <td>812</td>\n",
       "    </tr>\n",
       "  </tbody>\n",
       "</table>\n",
       "</div>"
      ],
      "text/plain": [
       "    POSITION      TIME  NUMBER\n",
       "0          1  01:57:26     829\n",
       "6          2  02:04:56     830\n",
       "10         3  02:13:41    2455\n",
       "32         4  02:36:46     813\n",
       "33         5  02:36:46     812"
      ]
     },
     "execution_count": 35,
     "metadata": {},
     "output_type": "execute_result"
    }
   ],
   "source": [
    "#We can drop name, last name and gender \n",
    "nonr_df = nonr_df.drop(columns=['NAME', 'LAST NAME', 'GENDER'])\n",
    "nonr_df.head()"
   ]
  },
  {
   "cell_type": "markdown",
   "metadata": {},
   "source": [
    "![purple-divider](https://user-images.githubusercontent.com/7065401/52071927-c1cd7100-2562-11e9-908a-dde91ba14e59.png) \n",
    "\n",
    "### Time for some graphs\n",
    "##### 9) Because no report is complete without graphs"
   ]
  },
  {
   "cell_type": "code",
   "execution_count": 36,
   "metadata": {},
   "outputs": [
    {
     "data": {
      "text/plain": [
       "1036"
      ]
     },
     "execution_count": 36,
     "metadata": {},
     "output_type": "execute_result"
    }
   ],
   "source": [
    "#first, lets see how was the distribution among our participants\n",
    "# lets consider all our unique readings as a 100%\n",
    "# this measn all our female, male and unregistered readings should add '1038'.\n",
    "# lets check it\n",
    "\n",
    "female_readings = f_df['NUMBER'].nunique()\n",
    "male_readings = m_df['NUMBER'].nunique()\n",
    "nonr_readings = nonr_df['NUMBER'].nunique() \n",
    "female_readings + male_readings + nonr_readings\n",
    "tot_r= female_readings + male_readings + nonr_readings\n",
    "no_chip= all_readings - tot_r\n",
    "tot_r"
   ]
  },
  {
   "cell_type": "code",
   "execution_count": 37,
   "metadata": {},
   "outputs": [],
   "source": [
    "#there are 2 participants who used unregistered chips"
   ]
  },
  {
   "cell_type": "markdown",
   "metadata": {},
   "source": [
    "![separator1](https://i.imgur.com/ZUWYTii.png)\n",
    "### Pie Chart"
   ]
  },
  {
   "cell_type": "code",
   "execution_count": 38,
   "metadata": {
    "scrolled": true
   },
   "outputs": [],
   "source": [
    "participation_df = pd.DataFrame({'Categories': ['Female', 'Male', 'Unregistered', 'no chip'],\n",
    "                                'Participation':[female_readings, male_readings,\n",
    "                                            nonr_readings, no_chip]})\n",
    "\n",
    "\n"
   ]
  },
  {
   "cell_type": "code",
   "execution_count": 39,
   "metadata": {},
   "outputs": [
    {
     "data": {
      "text/plain": [
       "<matplotlib.axes._subplots.AxesSubplot at 0x2be237aac40>"
      ]
     },
     "execution_count": 39,
     "metadata": {},
     "output_type": "execute_result"
    },
    {
     "data": {
      "image/png": "[encoded data removed]",
      "text/plain": [
       "<Figure size 648x648 with 1 Axes>"
      ]
     },
     "metadata": {},
     "output_type": "display_data"
    }
   ],
   "source": [
    "participation_df.groupby(['Categories']).sum().plot(kind='pie', y='Participation', \n",
    "                                                    autopct='%1.0f%%', figsize=(9, 9),\n",
    "                                colors = ['pink', 'steelblue', 'orange','gray'],\n",
    "                                title='Participation by Category')\n"
   ]
  },
  {
   "cell_type": "markdown",
   "metadata": {},
   "source": [
    "![separator1](https://i.imgur.com/ZUWYTii.png)\n",
    "### Distribution"
   ]
  },
  {
   "cell_type": "markdown",
   "metadata": {},
   "source": [
    "Now, this chart will be a little bit more tricky. We need to visualize the ratio of arrrivals per hour."
   ]
  },
  {
   "cell_type": "code",
   "execution_count": 40,
   "metadata": {
    "scrolled": true
   },
   "outputs": [
    {
     "name": "stdout",
     "output_type": "stream",
     "text": [
      "<class 'pandas.core.frame.DataFrame'>\n",
      "Int64Index: 1036 entries, 0 to 1035\n",
      "Data columns (total 6 columns):\n",
      " #   Column     Non-Null Count  Dtype \n",
      "---  ------     --------------  ----- \n",
      " 0   POSITION   1036 non-null   int32 \n",
      " 1   TIME       1036 non-null   object\n",
      " 2   NUMBER     1036 non-null   int64 \n",
      " 3   NAME       770 non-null    object\n",
      " 4   LAST NAME  770 non-null    object\n",
      " 5   GENDER     770 non-null    object\n",
      "dtypes: int32(1), int64(1), object(4)\n",
      "memory usage: 52.6+ KB\n"
     ]
    }
   ],
   "source": [
    "#  use time for X axis\n",
    "df.info()"
   ]
  },
  {
   "cell_type": "code",
   "execution_count": 41,
   "metadata": {
    "scrolled": true
   },
   "outputs": [],
   "source": [
    "# Create a copy to be modified\n",
    "df_copy=df.copy()"
   ]
  },
  {
   "cell_type": "code",
   "execution_count": 42,
   "metadata": {},
   "outputs": [
    {
     "name": "stdout",
     "output_type": "stream",
     "text": [
      "<class 'pandas.core.frame.DataFrame'>\n",
      "DatetimeIndex: 1036 entries, 1900-01-01 01:57:26 to 1900-01-01 06:45:03\n",
      "Data columns (total 5 columns):\n",
      " #   Column     Non-Null Count  Dtype \n",
      "---  ------     --------------  ----- \n",
      " 0   POSITION   1036 non-null   int32 \n",
      " 1   NUMBER     1036 non-null   int64 \n",
      " 2   NAME       770 non-null    object\n",
      " 3   LAST NAME  770 non-null    object\n",
      " 4   GENDER     770 non-null    object\n",
      "dtypes: int32(1), int64(1), object(3)\n",
      "memory usage: 44.5+ KB\n"
     ]
    }
   ],
   "source": [
    "#take time index, now it will be the x axis\n",
    "df_copy['TIME']= pd.to_datetime(df_copy['TIME'], format='%H:%M:%S')\n",
    "\n",
    "# Set the 'arrival_time' column as the index of the data frame\n",
    "df_copy.set_index('TIME', inplace=True)\n",
    "df_copy.info()"
   ]
  },
  {
   "cell_type": "code",
   "execution_count": 43,
   "metadata": {
    "scrolled": false
   },
   "outputs": [
    {
     "data": {
      "image/png": "[encoded data removed]",
      "text/plain": [
       "<Figure size 864x432 with 1 Axes>"
      ]
     },
     "metadata": {
      "needs_background": "light"
     },
     "output_type": "display_data"
    }
   ],
   "source": [
    "# Resample the data frame per 60 minutes and count the number of arrivals in each interval\n",
    "arrivals_per_60min = df_copy['NUMBER'].resample('60T').count()\n",
    "\n",
    "# Plot the distribution chart\n",
    "arrivals_per_60min.plot(kind='bar', legend=None, figsize=(12, 6))\n",
    "\n",
    "# Customize the plot\n",
    "plt.xlabel('Time')\n",
    "plt.ylabel('Readings')\n",
    "plt.title('Distribution of arrivals')\n",
    "\n",
    "# Display the plot\n",
    "plt.show()"
   ]
  },
  {
   "cell_type": "markdown",
   "metadata": {},
   "source": [
    "Lets get a more definded shape"
   ]
  },
  {
   "cell_type": "code",
   "execution_count": 44,
   "metadata": {
    "scrolled": false
   },
   "outputs": [
    {
     "data": {
      "image/png": "[encoded data removed]",
      "text/plain": [
       "<Figure size 864x432 with 1 Axes>"
      ]
     },
     "metadata": {
      "needs_background": "light"
     },
     "output_type": "display_data"
    }
   ],
   "source": [
    "# Resample the data frame per 10 minutes and count the number of arrivals in each interval\n",
    "arrivals_per_10min = df_copy['NUMBER'].resample('10T').count()\n",
    "\n",
    "# Plot the distribution chart\n",
    "arrivals_per_10min.plot(kind='line', legend=None, figsize=(12, 6))\n",
    "\n",
    "# Customize the plot\n",
    "plt.xlabel('Time')\n",
    "plt.ylabel('Number of Arrivals')\n",
    "plt.title('Distribution of arrivals')\n",
    "\n",
    "# Display the plot\n",
    "plt.show()"
   ]
  },
  {
   "cell_type": "markdown",
   "metadata": {},
   "source": [
    "Nice, we can almost see the bell curve of distribution."
   ]
  },
  {
   "cell_type": "markdown",
   "metadata": {},
   "source": [
    "#### lets overlap the graph for all categories "
   ]
  },
  {
   "cell_type": "code",
   "execution_count": 45,
   "metadata": {},
   "outputs": [],
   "source": [
    "# Resample the data frame per 10 minutes and count the number of arrivals in each interval per group\n",
    "farrivals_per_10min = df_copy[df_copy['GENDER']=='F']['NUMBER'].resample('10T').count()\n",
    "marrivals_per_10min = df_copy[df_copy['GENDER']=='M']['NUMBER'].resample('10T').count()\n",
    "narrivals_per_10min = df_copy[pd.isnull(df_copy['GENDER'])]['NUMBER'].resample('10T').count()"
   ]
  },
  {
   "cell_type": "code",
   "execution_count": 46,
   "metadata": {
    "scrolled": false
   },
   "outputs": [
    {
     "data": {
      "image/png": "[encoded data removed]",
      "text/plain": [
       "<Figure size 864x432 with 1 Axes>"
      ]
     },
     "metadata": {
      "needs_background": "light"
     },
     "output_type": "display_data"
    }
   ],
   "source": [
    "# Graph with global API\n",
    "plt.figure(figsize=(12, 6))\n",
    "\n",
    "# Plot the distribution chart\n",
    "arrivals_per_10min.plot(kind='line', legend=None,  c= 'dimgray')\n",
    "farrivals_per_10min.plot(kind='line', legend=None, c='pink')\n",
    "marrivals_per_10min.plot(kind='line', legend=None, c='steelblue')\n",
    "narrivals_per_10min.plot(kind='line', legend=None, c= 'orange')\n",
    "\n",
    "\n",
    "# Customize the plot\n",
    "plt.xlabel('Time')\n",
    "plt.ylabel('Readings')\n",
    "plt.title('Distribution of arrivals')\n",
    "\n",
    "#legend\n",
    "plt.legend(['All arrivals', 'Females', 'Males', 'No registered'],\n",
    "            loc='upper right')\n",
    "\n",
    "#create and save image\n",
    "plt.savefig(\"distribution.png\", dpi=600)\n",
    "\n",
    "\n",
    "# Display the plot\n",
    "plt.show()"
   ]
  },
  {
   "cell_type": "code",
   "execution_count": 47,
   "metadata": {
    "scrolled": true
   },
   "outputs": [
    {
     "data": {
      "text/plain": [
       "<matplotlib.legend.Legend at 0x2be2409f3a0>"
      ]
     },
     "execution_count": 47,
     "metadata": {},
     "output_type": "execute_result"
    },
    {
     "data": {
      "image/png": "[encoded data removed]",
      "text/plain": [
       "<Figure size 864x432 with 1 Axes>"
      ]
     },
     "metadata": {
      "needs_background": "light"
     },
     "output_type": "display_data"
    }
   ],
   "source": [
    "# graph with OOP (just because)\n",
    "fig, axes = plt.subplots(figsize=(12, 6))\n",
    "\n",
    "# Plot the distribution chart\n",
    "axes.plot(arrivals_per_10min, c= 'dimgray', linestyle= 'dashdot', label=\"all readings\")\n",
    "axes.plot(farrivals_per_10min, c='pink', linestyle='dashdot', label=\"Females\")\n",
    "axes.plot(marrivals_per_10min, c='steelblue',linestyle='dashdot', label=\"Males\")\n",
    "axes.plot(narrivals_per_10min, c= 'orange', linestyle='dashdot',label=\"Non registered\")\n",
    "\n",
    "# Customize the plot\n",
    "axes.set_title(\"Distribution of arrivals\")\n",
    "axes.set_xlabel(\"Time\")\n",
    "axes.set_ylabel(\"Readings\")\n",
    "axes.legend()"
   ]
  },
  {
   "cell_type": "markdown",
   "metadata": {},
   "source": [
    "![purple-divider](https://user-images.githubusercontent.com/7065401/52071927-c1cd7100-2562-11e9-908a-dde91ba14e59.png) \n",
    "### Statistics \n",
    "##### 10) create a data frame with all the relevant information per group\n",
    "In order to do so, lets do it by parts\n"
   ]
  },
  {
   "cell_type": "code",
   "execution_count": 48,
   "metadata": {},
   "outputs": [],
   "source": [
    "#create the data frame\n",
    "stats_df = pd.DataFrame({'Participation':\n",
    "                          [female_readings,\n",
    "                          male_readings,\n",
    "                          nonr_readings,\n",
    "                          tot_r],\n",
    "                          'Min_Time':\n",
    "                          [1,2,3,4],\n",
    "                          'Max_Time':\n",
    "                          [1,2,3,4],\n",
    "                          \"Mean_Time\":\n",
    "                          [1,2,3,4]\n",
    "}, columns=['Participation','Min_Time','Max_Time', \"Mean_Time\"])"
   ]
  },
  {
   "cell_type": "code",
   "execution_count": 49,
   "metadata": {},
   "outputs": [
    {
     "data": {
      "text/html": [
       "<div>\n",
       "<style scoped>\n",
       "    .dataframe tbody tr th:only-of-type {\n",
       "        vertical-align: middle;\n",
       "    }\n",
       "\n",
       "    .dataframe tbody tr th {\n",
       "        vertical-align: top;\n",
       "    }\n",
       "\n",
       "    .dataframe thead th {\n",
       "        text-align: right;\n",
       "    }\n",
       "</style>\n",
       "<table border=\"1\" class=\"dataframe\">\n",
       "  <thead>\n",
       "    <tr style=\"text-align: right;\">\n",
       "      <th></th>\n",
       "      <th>Participation</th>\n",
       "      <th>Min_Time</th>\n",
       "      <th>Max_Time</th>\n",
       "      <th>Mean_Time</th>\n",
       "    </tr>\n",
       "  </thead>\n",
       "  <tbody>\n",
       "    <tr>\n",
       "      <th>Female</th>\n",
       "      <td>158</td>\n",
       "      <td>1</td>\n",
       "      <td>1</td>\n",
       "      <td>1</td>\n",
       "    </tr>\n",
       "    <tr>\n",
       "      <th>Male</th>\n",
       "      <td>612</td>\n",
       "      <td>2</td>\n",
       "      <td>2</td>\n",
       "      <td>2</td>\n",
       "    </tr>\n",
       "    <tr>\n",
       "      <th>non registered</th>\n",
       "      <td>266</td>\n",
       "      <td>3</td>\n",
       "      <td>3</td>\n",
       "      <td>3</td>\n",
       "    </tr>\n",
       "    <tr>\n",
       "      <th>All</th>\n",
       "      <td>1036</td>\n",
       "      <td>4</td>\n",
       "      <td>4</td>\n",
       "      <td>4</td>\n",
       "    </tr>\n",
       "  </tbody>\n",
       "</table>\n",
       "</div>"
      ],
      "text/plain": [
       "                Participation  Min_Time  Max_Time  Mean_Time\n",
       "Female                    158         1         1          1\n",
       "Male                      612         2         2          2\n",
       "non registered            266         3         3          3\n",
       "All                      1036         4         4          4"
      ]
     },
     "execution_count": 49,
     "metadata": {},
     "output_type": "execute_result"
    }
   ],
   "source": [
    "# add the index column \n",
    "stats_df.index = [\n",
    "    'Female',\n",
    "    'Male',\n",
    "    'non registered',\n",
    "    'All'\n",
    "]\n",
    "stats_df"
   ]
  },
  {
   "cell_type": "code",
   "execution_count": 50,
   "metadata": {},
   "outputs": [
    {
     "data": {
      "text/html": [
       "<div>\n",
       "<style scoped>\n",
       "    .dataframe tbody tr th:only-of-type {\n",
       "        vertical-align: middle;\n",
       "    }\n",
       "\n",
       "    .dataframe tbody tr th {\n",
       "        vertical-align: top;\n",
       "    }\n",
       "\n",
       "    .dataframe thead th {\n",
       "        text-align: right;\n",
       "    }\n",
       "</style>\n",
       "<table border=\"1\" class=\"dataframe\">\n",
       "  <thead>\n",
       "    <tr style=\"text-align: right;\">\n",
       "      <th></th>\n",
       "      <th>Participation</th>\n",
       "      <th>Min_Time</th>\n",
       "      <th>Max_Time</th>\n",
       "      <th>Mean_Time</th>\n",
       "    </tr>\n",
       "  </thead>\n",
       "  <tbody>\n",
       "    <tr>\n",
       "      <th>Female</th>\n",
       "      <td>158</td>\n",
       "      <td>02:02:29</td>\n",
       "      <td>06:28:15</td>\n",
       "      <td>1</td>\n",
       "    </tr>\n",
       "    <tr>\n",
       "      <th>Male</th>\n",
       "      <td>612</td>\n",
       "      <td>01:59:57</td>\n",
       "      <td>06:45:03</td>\n",
       "      <td>2</td>\n",
       "    </tr>\n",
       "    <tr>\n",
       "      <th>non registered</th>\n",
       "      <td>266</td>\n",
       "      <td>01:57:26</td>\n",
       "      <td>06:43:09</td>\n",
       "      <td>3</td>\n",
       "    </tr>\n",
       "    <tr>\n",
       "      <th>All</th>\n",
       "      <td>1036</td>\n",
       "      <td>01:57:26</td>\n",
       "      <td>06:45:03</td>\n",
       "      <td>4</td>\n",
       "    </tr>\n",
       "  </tbody>\n",
       "</table>\n",
       "</div>"
      ],
      "text/plain": [
       "                Participation  Min_Time  Max_Time  Mean_Time\n",
       "Female                    158  02:02:29  06:28:15          1\n",
       "Male                      612  01:59:57  06:45:03          2\n",
       "non registered            266  01:57:26  06:43:09          3\n",
       "All                      1036  01:57:26  06:45:03          4"
      ]
     },
     "execution_count": 50,
     "metadata": {},
     "output_type": "execute_result"
    }
   ],
   "source": [
    "#it has the needed shape, valaues can be replaced now\n",
    "stats_df['Min_Time'] = stats_df['Min_Time'].replace(to_replace= [1,2,3,4],\n",
    "                                                    value=[f_df['TIME'].min(),\n",
    "                                                           m_df['TIME'].min(),\n",
    "                                                           nonr_df['TIME'].min(),\n",
    "                                                           df['TIME'].min()])\n",
    "                                                           \n",
    "stats_df['Max_Time'] = stats_df['Max_Time'].replace(to_replace= [1,2,3,4],\n",
    "                                                    value=[f_df['TIME'].max(),\n",
    "                                                           m_df['TIME'].max(),\n",
    "                                                           nonr_df['TIME'].max(),\n",
    "                                                           df['TIME'].max()])\n",
    "\n",
    "\n",
    "stats_df"
   ]
  },
  {
   "cell_type": "code",
   "execution_count": 51,
   "metadata": {
    "scrolled": false
   },
   "outputs": [],
   "source": [
    "#next operations are with time, so they need an extra step, \n",
    "#changing the datatype to date time\n",
    "\n",
    "#change to datetime\n",
    "tfdf = pd.to_datetime(f_df['TIME'], infer_datetime_format=True).mean()\n",
    "tmdf = pd.to_datetime(m_df['TIME'], infer_datetime_format=True).mean()\n",
    "tadf = pd.to_datetime(df['TIME'], infer_datetime_format=True).mean()\n",
    "tnrdf = pd.to_datetime(nonr_df['TIME'], infer_datetime_format=True).mean()\n"
   ]
  },
  {
   "cell_type": "code",
   "execution_count": 52,
   "metadata": {},
   "outputs": [
    {
     "data": {
      "text/plain": [
       "Timestamp('2023-07-10 04:36:29.050632448')"
      ]
     },
     "execution_count": 52,
     "metadata": {},
     "output_type": "execute_result"
    }
   ],
   "source": [
    "#however, this gives a Time stamp datatype with irrelavant data\n",
    "tfdf"
   ]
  },
  {
   "cell_type": "code",
   "execution_count": 53,
   "metadata": {},
   "outputs": [
    {
     "data": {
      "text/plain": [
       "'04:36:29'"
      ]
     },
     "execution_count": 53,
     "metadata": {},
     "output_type": "execute_result"
    }
   ],
   "source": [
    "#transforming from timestamp to string, or object to be more precise\n",
    "tfdf.strftime('%X')"
   ]
  },
  {
   "cell_type": "code",
   "execution_count": 54,
   "metadata": {},
   "outputs": [
    {
     "data": {
      "text/html": [
       "<div>\n",
       "<style scoped>\n",
       "    .dataframe tbody tr th:only-of-type {\n",
       "        vertical-align: middle;\n",
       "    }\n",
       "\n",
       "    .dataframe tbody tr th {\n",
       "        vertical-align: top;\n",
       "    }\n",
       "\n",
       "    .dataframe thead th {\n",
       "        text-align: right;\n",
       "    }\n",
       "</style>\n",
       "<table border=\"1\" class=\"dataframe\">\n",
       "  <thead>\n",
       "    <tr style=\"text-align: right;\">\n",
       "      <th></th>\n",
       "      <th>Participation</th>\n",
       "      <th>Min_Time</th>\n",
       "      <th>Max_Time</th>\n",
       "      <th>Mean_Time</th>\n",
       "    </tr>\n",
       "  </thead>\n",
       "  <tbody>\n",
       "    <tr>\n",
       "      <th>Female</th>\n",
       "      <td>158</td>\n",
       "      <td>02:02:29</td>\n",
       "      <td>06:28:15</td>\n",
       "      <td>04:36:29</td>\n",
       "    </tr>\n",
       "    <tr>\n",
       "      <th>Male</th>\n",
       "      <td>612</td>\n",
       "      <td>01:59:57</td>\n",
       "      <td>06:45:03</td>\n",
       "      <td>04:16:25</td>\n",
       "    </tr>\n",
       "    <tr>\n",
       "      <th>non registered</th>\n",
       "      <td>266</td>\n",
       "      <td>01:57:26</td>\n",
       "      <td>06:43:09</td>\n",
       "      <td>04:21:40</td>\n",
       "    </tr>\n",
       "    <tr>\n",
       "      <th>All</th>\n",
       "      <td>1036</td>\n",
       "      <td>01:57:26</td>\n",
       "      <td>06:45:03</td>\n",
       "      <td>04:24:56</td>\n",
       "    </tr>\n",
       "  </tbody>\n",
       "</table>\n",
       "</div>"
      ],
      "text/plain": [
       "                Participation  Min_Time  Max_Time Mean_Time\n",
       "Female                    158  02:02:29  06:28:15  04:36:29\n",
       "Male                      612  01:59:57  06:45:03  04:16:25\n",
       "non registered            266  01:57:26  06:43:09  04:21:40\n",
       "All                      1036  01:57:26  06:45:03  04:24:56"
      ]
     },
     "execution_count": 54,
     "metadata": {},
     "output_type": "execute_result"
    }
   ],
   "source": [
    "#replace values\n",
    "stats_df['Mean_Time'] = stats_df['Mean_Time'].replace(to_replace = [1,2,3,4],\n",
    "                                                    value=[tfdf.strftime('%X')\n",
    "                                                           ,tmdf.strftime('%X')\n",
    "                                                           ,tadf.strftime('%X')\n",
    "                                                           ,tnrdf.strftime('%X')])\n",
    "stats_df.head()\n"
   ]
  },
  {
   "cell_type": "code",
   "execution_count": null,
   "metadata": {},
   "outputs": [],
   "source": []
  },
  {
   "cell_type": "markdown",
   "metadata": {},
   "source": [
    "![purple-divider](https://user-images.githubusercontent.com/7065401/52071927-c1cd7100-2562-11e9-908a-dde91ba14e59.png) \n",
    "\n",
    "### Saving the results as excel files"
   ]
  },
  {
   "cell_type": "markdown",
   "metadata": {},
   "source": [
    "##### 11) Given the 5 clean data frames and the graphs produced , results can be exported. "
   ]
  },
  {
   "cell_type": "markdown",
   "metadata": {},
   "source": [
    "Exporting Graph"
   ]
  },
  {
   "cell_type": "code",
   "execution_count": 55,
   "metadata": {},
   "outputs": [],
   "source": [
    "workbook   = xlsxwriter.Workbook('Results.xlsx')\n",
    "\n",
    "worksheetstats = workbook.add_worksheet('Graphs')\n",
    "\n",
    "worksheetstats.insert_image('C4', 'distribution.png')\n",
    "\n",
    "workbook.close()"
   ]
  },
  {
   "cell_type": "markdown",
   "metadata": {},
   "source": [
    "Exporting Data frames"
   ]
  },
  {
   "cell_type": "code",
   "execution_count": 56,
   "metadata": {},
   "outputs": [],
   "source": [
    "with pd.ExcelWriter('Results.xlsx', engine=\"openpyxl\",mode='a') as writer:\n",
    "    df.to_excel(writer, index=None, sheet_name='All participants', startrow=2, startcol=2) \n",
    "    f_df.to_excel(writer, index=None, sheet_name='Females', startrow=2, startcol=2)\n",
    "    m_df.to_excel(writer, index=None, sheet_name='Males', startrow=2, startcol=2)\n",
    "    nonr_df.to_excel(writer, index=None, sheet_name='Non registered', startrow=2, startcol=2)\n",
    "    stats_df.to_excel(writer, index=None, sheet_name='Statistics', startrow=2, startcol=2)\n",
    "    \n",
    "    "
   ]
  },
  {
   "cell_type": "markdown",
   "metadata": {},
   "source": [
    "![purple-divider](https://user-images.githubusercontent.com/7065401/52071927-c1cd7100-2562-11e9-908a-dde91ba14e59.png) \n",
    "### Insights "
   ]
  }
 ],
 "metadata": {
  "kernelspec": {
   "display_name": "Python 3",
   "language": "python",
   "name": "python3"
  },
  "language_info": {
   "codemirror_mode": {
    "name": "ipython",
    "version": 3
   },
   "file_extension": ".py",
   "mimetype": "text/x-python",
   "name": "python",
   "nbconvert_exporter": "python",
   "pygments_lexer": "ipython3",
   "version": "3.8.3"
  }
 },
 "nbformat": 4,
 "nbformat_minor": 4
}
